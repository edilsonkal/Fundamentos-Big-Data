{
 "cells": [
  {
   "cell_type": "markdown",
   "metadata": {},
   "source": [
    "Trabalhando com Lista\n"
   ]
  },
  {
   "cell_type": "code",
   "execution_count": 13,
   "metadata": {},
   "outputs": [],
   "source": [
    "#Criando uma lista\n",
    "alunos = ['Amanda','Ana','Aurineide','Perclides']\n",
    "notas = [10,20,30,40]"
   ]
  },
  {
   "cell_type": "code",
   "execution_count": 14,
   "metadata": {},
   "outputs": [
    {
     "data": {
      "text/plain": [
       "'Amanda'"
      ]
     },
     "execution_count": 14,
     "metadata": {},
     "output_type": "execute_result"
    }
   ],
   "source": [
    "#Retornar os elementos das listas\n",
    "alunos[0]\n"
   ]
  },
  {
   "cell_type": "markdown",
   "metadata": {},
   "source": [
    "#crie uma lista com nomes de times\n"
   ]
  },
  {
   "cell_type": "code",
   "execution_count": 17,
   "metadata": {},
   "outputs": [
    {
     "name": "stdout",
     "output_type": "stream",
     "text": [
      "O time que esta na 3 Posiçaõ é: Coritiba\n",
      "O time que esta na 4 Posiçaõ é:  Santos\n",
      "O time que esta na 1 Posiçaõ é: Plameiras\n"
     ]
    }
   ],
   "source": [
    "#Crie uma lista de times com nomes \n",
    "time = ['Plameiras','São Paulo','Coritiba','Santos']\n",
    "\n",
    "#Acessar o time que esta na 3 posição.\n",
    "print('O time que esta na 3 Posiçaõ é:', time[2])\n",
    "\n",
    "#Acessar o time que esta na 4 posição.\n",
    "print('O time que esta na 4 Posiçaõ é: ', time[3])\n",
    "\n",
    "#Acessar o time que esta na 1 posição.\n",
    "print('O time que esta na 1 Posiçaõ é:', time[0])"
   ]
  },
  {
   "cell_type": "markdown",
   "metadata": {},
   "source": [
    "3. crie uma lista com duas listas de 3 times de futebol,cada uma de uma divisão diferente\n"
   ]
  },
  {
   "cell_type": "code",
   "execution_count": 18,
   "metadata": {},
   "outputs": [],
   "source": [
    "# Criando listas em listas\n",
    "campeonato = [['Palmeiras','Santos','Coritiba','São Paulo'],['Corinthians','São Caetano','Bahia','Sport']]"
   ]
  },
  {
   "cell_type": "code",
   "execution_count": 21,
   "metadata": {},
   "outputs": [
    {
     "name": "stdout",
     "output_type": "stream",
     "text": [
      "Os elementos da listas são:  [['Palmeiras', 'Santos', 'Coritiba', 'São Paulo'], ['Corinthians', 'São Caetano', 'Bahia', 'Sport']]\n",
      "Primeira lista:  ['Palmeiras', 'Santos', 'Coritiba', 'São Paulo']\n",
      "Segunda lista:  ['Corinthians', 'São Caetano', 'Bahia', 'Sport']\n",
      "O terceiro elemento da 1 lista é:  Coritiba\n"
     ]
    }
   ],
   "source": [
    "#Acessar os elementos\n",
    "#retornar todos os elementos da lista\n",
    "print('Os elementos da listas são: ',campeonato)\n",
    "\n",
    "print('Primeira lista: ',campeonato[0]) \n",
    "\n",
    "#retornar a segunda lista\n",
    "print('Segunda lista: ',campeonato[1])\n",
    "#retornar o terceiro elemento da primeira lista\n",
    "print('O terceiro elemento da 1 lista é: ',campeonato[0][2])"
   ]
  }
 ],
 "metadata": {
  "kernelspec": {
   "display_name": "Python 3",
   "language": "python",
   "name": "python3"
  },
  "language_info": {
   "codemirror_mode": {
    "name": "ipython",
    "version": 3
   },
   "file_extension": ".py",
   "mimetype": "text/x-python",
   "name": "python",
   "nbconvert_exporter": "python",
   "pygments_lexer": "ipython3",
   "version": "3.11.0"
  },
  "orig_nbformat": 4
 },
 "nbformat": 4,
 "nbformat_minor": 2
}
