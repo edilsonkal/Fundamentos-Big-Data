{
 "cells": [
  {
   "cell_type": "markdown",
   "metadata": {},
   "source": [
    "### Exercicios 02\n",
    "\n",
    "\n",
    "Escreva um programa que imprima todos os numeros pares de 1 a 100"
   ]
  },
  {
   "cell_type": "code",
   "execution_count": 10,
   "metadata": {},
   "outputs": [
    {
     "name": "stdout",
     "output_type": "stream",
     "text": [
      "2\n",
      "4\n",
      "6\n",
      "8\n",
      "10\n",
      "12\n",
      "14\n",
      "16\n",
      "18\n",
      "20\n",
      "22\n",
      "24\n",
      "26\n",
      "28\n",
      "30\n",
      "32\n",
      "34\n",
      "36\n",
      "38\n",
      "40\n",
      "42\n",
      "44\n",
      "46\n",
      "48\n",
      "50\n",
      "52\n",
      "54\n",
      "56\n",
      "58\n",
      "60\n",
      "62\n",
      "64\n",
      "66\n",
      "68\n",
      "70\n",
      "72\n",
      "74\n",
      "76\n",
      "78\n",
      "80\n",
      "82\n",
      "84\n",
      "86\n",
      "88\n",
      "90\n",
      "92\n",
      "94\n",
      "96\n",
      "98\n",
      "100\n"
     ]
    }
   ],
   "source": [
    "numeros = range(1 , 101) #criando um intervalo de 1 a 100\n",
    "\n",
    "for num in numeros:\n",
    "    if num % 2 == 0:\n",
    "        \n",
    "     print(num)"
   ]
  },
  {
   "cell_type": "markdown",
   "metadata": {},
   "source": [
    "Exercicio 02\n",
    "Crie um programa que conte quantas vezes a letra 'a' aparece em um frase inserida pelo usuario,(FOR)"
   ]
  },
  {
   "cell_type": "code",
   "execution_count": 9,
   "metadata": {},
   "outputs": [
    {
     "name": "stdout",
     "output_type": "stream",
     "text": [
      "A frase contém 3 letras A. \n"
     ]
    }
   ],
   "source": [
    "frase = input('Digite algo aqui: ')\n",
    "frase = frase.lower()\n",
    "contador = 0\n",
    "for letra in frase:\n",
    "    if letra == 'a':\n",
    "        contador = contador + 1\n",
    "print(f'A frase contém {contador} letras A. ')        "
   ]
  },
  {
   "cell_type": "markdown",
   "metadata": {},
   "source": [
    "### Exercício 14 \n",
    " \n",
    " Faça um programa que peça 10 números inteiros, calcule e mostre a\n",
    "quantidade de números pares e a quantidade de números ímpares."
   ]
  },
  {
   "cell_type": "code",
   "execution_count": 40,
   "metadata": {},
   "outputs": [
    {
     "name": "stdout",
     "output_type": "stream",
     "text": [
      "[1, 2, 3, 4, 5, 6, 7, 8, 9, 10]\n",
      "Tem   5 numeros pares  ,e Tantos  5 numeros ímpares  \n"
     ]
    }
   ],
   "source": [
    "#lista vazia ,responsavel por armazenar valores\n",
    "numeros = []\n",
    "i = 1\n",
    "while i <= 10:\n",
    "    numero = int(input('Digite um numero inteiro: '))\n",
    "    \n",
    "    numeros.append(numero)\n",
    "\n",
    "    i = i + 1\n",
    "\n",
    "print(numeros)\n",
    "\n",
    "impar = 0\n",
    "par = 0\n",
    "\n",
    "\n",
    "for num in numeros:\n",
    "    if num % 2 != 0:\n",
    "    \n",
    "        impar += 1\n",
    "    else:\n",
    "        par += 1\n",
    "        \n",
    "print(f'Tem   {par} numeros pares  ,e Tantos  {impar} numeros ímpares  ')        \n",
    "        "
   ]
  },
  {
   "cell_type": "code",
   "execution_count": 33,
   "metadata": {},
   "outputs": [],
   "source": [
    "lista = []\n",
    "\n",
    "i = 1 #variavel de controle\n",
    "\n",
    "while i <= 10:\n",
    "    numero = int(input('Digite um numero: '))\n",
    "    lista.append(numero)\n",
    "    \n",
    "    i = i +1\n",
    "print(lista)"
   ]
  },
  {
   "cell_type": "markdown",
   "metadata": {},
   "source": [
    "### Exercício 08 \n",
    "\n",
    "Faça um programa que leia 5 números e informe a soma e a média dos\n",
    "números."
   ]
  },
  {
   "cell_type": "code",
   "execution_count": 46,
   "metadata": {},
   "outputs": [
    {
     "name": "stdout",
     "output_type": "stream",
     "text": [
      "A lista contém os seguinte numeros: [9.0, 8.0, 7.0, 4.0, 5.0]\n",
      "A lista contém 5 numeros\n",
      "A soma dos valores é:  33.0\n",
      "A media dos valors é:  6.6\n"
     ]
    }
   ],
   "source": [
    "#criar uma lista vazia pra aramazenar valores\n",
    "lista_numeros = []\n",
    "#variavel de controle de repetição\n",
    "i = 0\n",
    "#estrutura de repetição para solicitar 5 valores\n",
    "#e inserir na lista(lista_numeros)\n",
    "while i < 5:\n",
    "    #solicitar novos valores\n",
    "    numero = float(input('Digite um valor: '))\n",
    "    #adicionar o numero na lista criada\n",
    "    lista_numeros.append(numero)\n",
    "\n",
    "    i += 1 #Incremento de uma unidade da variavel i\n",
    "print('A lista contém os seguinte numeros:' , lista_numeros)\n",
    "print(f'A lista contém {i} numeros')    \n",
    "\n",
    "#declarar a variavel para aramazenar a soma dos valores\n",
    "soma  = 0\n",
    "\n",
    "for x in lista_numeros:\n",
    "    #soma a variavel soma com variavel x\n",
    "    soma = soma + x\n",
    "\n",
    "media = 0   \n",
    "media = soma / i \n",
    "print('A soma dos valores é: ' , soma)\n",
    "print('A media dos valors é: ', media)\n",
    "\n"
   ]
  },
  {
   "cell_type": "markdown",
   "metadata": {},
   "source": [
    "### Exercício 17 \n",
    "\n",
    "Faça um programa que calcule o fatorial de um número inteiro fornecido\n",
    "pelo usuário. Ex.: 5!=5.4.3.2.1=120"
   ]
  },
  {
   "cell_type": "code",
   "execution_count": 50,
   "metadata": {},
   "outputs": [
    {
     "name": "stdout",
     "output_type": "stream",
     "text": [
      "******** Calculo de Fatorial*********\n",
      "120\n"
     ]
    }
   ],
   "source": [
    "print('******** Calculo de Fatorial*********')\n",
    "\n",
    "#solicitar o valor\n",
    "i = int(input('Digite um nuemro para calcular o fatorial: '))\n",
    "#atribuindo o valor de entrada a variavel fatorial\n",
    "fatorial = i\n",
    "#cálculo do fatorial do valor\n",
    "result = i\n",
    "while i >= 1:\n",
    "#decrescimo do valor inserido para multiplicador o valor digitado\n",
    "    i = i - 1\n",
    "\n",
    "    if i != 0:\n",
    "      fatorial = fatorial * i\n",
    "    \n",
    "   \n",
    "print(fatorial)    \n",
    "\n"
   ]
  },
  {
   "cell_type": "markdown",
   "metadata": {},
   "source": [
    "#### Exercício 03\n",
    "\n",
    "Faça um programa que calcule a soma dos números de 1 a 100.\n",
    "(FOR)\n"
   ]
  },
  {
   "cell_type": "code",
   "execution_count": null,
   "metadata": {},
   "outputs": [],
   "source": [
    "#Criando uma lista de 1 a 100\n",
    "\n"
   ]
  }
 ],
 "metadata": {
  "kernelspec": {
   "display_name": "Python 3",
   "language": "python",
   "name": "python3"
  },
  "language_info": {
   "codemirror_mode": {
    "name": "ipython",
    "version": 3
   },
   "file_extension": ".py",
   "mimetype": "text/x-python",
   "name": "python",
   "nbconvert_exporter": "python",
   "pygments_lexer": "ipython3",
   "version": "3.11.0"
  },
  "orig_nbformat": 4
 },
 "nbformat": 4,
 "nbformat_minor": 2
}
