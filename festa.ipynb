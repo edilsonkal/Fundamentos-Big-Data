{
 "cells": [
  {
   "cell_type": "code",
   "execution_count": 1,
   "metadata": {},
   "outputs": [
    {
     "name": "stdout",
     "output_type": "stream",
     "text": [
      "Requirement already satisfied: pip in c:\\users\\edils\\miniconda3\\lib\\site-packages (23.2.1)\n",
      "Collecting pip\n",
      "  Obtaining dependency information for pip from https://files.pythonhosted.org/packages/47/6a/453160888fab7c6a432a6e25f8afe6256d0d9f2cbd25971021da6491d899/pip-23.3.1-py3-none-any.whl.metadata\n",
      "  Downloading pip-23.3.1-py3-none-any.whl.metadata (3.5 kB)\n",
      "Downloading pip-23.3.1-py3-none-any.whl (2.1 MB)\n",
      "   ---------------------------------------- 0.0/2.1 MB ? eta -:--:--\n",
      "   ------- -------------------------------- 0.4/2.1 MB 8.5 MB/s eta 0:00:01\n",
      "   ------------------ --------------------- 1.0/2.1 MB 10.3 MB/s eta 0:00:01\n",
      "   ----------------------------- ---------- 1.5/2.1 MB 10.9 MB/s eta 0:00:01\n",
      "   ---------------------------------------  2.1/2.1 MB 11.1 MB/s eta 0:00:01\n",
      "   ---------------------------------------- 2.1/2.1 MB 9.6 MB/s eta 0:00:00\n",
      "Installing collected packages: pip\n",
      "  Attempting uninstall: pip\n",
      "    Found existing installation: pip 23.2.1\n",
      "    Uninstalling pip-23.2.1:\n",
      "      Successfully uninstalled pip-23.2.1\n",
      "Successfully installed pip-23.3.1\n",
      "Note: you may need to restart the kernel to use updated packages.\n"
     ]
    }
   ],
   "source": [
    "pip install --upgrade pip\n"
   ]
  },
  {
   "cell_type": "code",
   "execution_count": 2,
   "metadata": {},
   "outputs": [
    {
     "name": "stdout",
     "output_type": "stream",
     "text": [
      "Collecting PySimpleGUI\n",
      "  Downloading PySimpleGUI-4.60.5-py3-none-any.whl.metadata (56 kB)\n",
      "     ---------------------------------------- 0.0/56.0 kB ? eta -:--:--\n",
      "     ---------------------------------------- 56.0/56.0 kB 1.5 MB/s eta 0:00:00\n",
      "Downloading PySimpleGUI-4.60.5-py3-none-any.whl (512 kB)\n",
      "   ---------------------------------------- 0.0/512.7 kB ? eta -:--:--\n",
      "   --------------------------------------  512.0/512.7 kB 10.7 MB/s eta 0:00:01\n",
      "   ---------------------------------------- 512.7/512.7 kB 6.4 MB/s eta 0:00:00\n",
      "Installing collected packages: PySimpleGUI\n",
      "Successfully installed PySimpleGUI-4.60.5\n"
     ]
    }
   ],
   "source": [
    "!pip install PySimpleGUI"
   ]
  },
  {
   "cell_type": "code",
   "execution_count": 4,
   "metadata": {},
   "outputs": [],
   "source": [
    "import PySimpleGUI as sg\n",
    "\n",
    "# layout\n",
    "sg.theme('Reddit')\n",
    "layout = [\n",
    "    [sg.Text('Usuário'), sg.Input(key='usuario', size=(20, 1))],\n",
    "    [sg.Text('Senha'), sg.Input(key='senha', password_char='*', size=(20, 1))],\n",
    "    [sg.Checkbox('Salvar o login?')],\n",
    "    [sg.Button('Entrar')]\n",
    "]\n",
    "\n",
    "# janela\n",
    "janela = sg.Window('Festa de aniversário', layout)\n",
    "\n",
    "# ler eventos\n",
    "while True:\n",
    "    eventos, valores = janela.read()\n",
    "    if eventos == sg.WINDOW_CLOSED:\n",
    "        break\n",
    "    if eventos == 'Entrar':\n",
    "        if valores['usuario'] == 'convidados' and valores['senha'] == '123456':\n",
    "            sg.popup('Bem Vindo a sua lista de aniversário')\n",
    "\n",
    "\n",
    "\n",
    "\n",
    "\n"
   ]
  },
  {
   "cell_type": "code",
   "execution_count": 17,
   "metadata": {},
   "outputs": [],
   "source": [
    "import PySimpleGUI as sg\n",
    "\n",
    "class ListaAniversário:\n",
    "    def __init__(self):\n",
    "        sg.change_look_and_feel('BlueMono')\n",
    "        layout = [\n",
    "            [sg.Text('Por favor digite o número de convidados', size=(30, 0)), sg.Input(key='-CONVIDADOS-', size=(20, 1))],\n",
    "            [sg.Checkbox('Caixa de Bolo', key='caixa_de_bolo')],\n",
    "            [sg.Checkbox('Refrigerante', key='refrigerante')],\n",
    "            [sg.Checkbox('Talheres', key='talheres')],\n",
    "            [sg.Checkbox('Garrafas de Agua', key='garrafas_de_agua')],\n",
    "            [sg.Checkbox('Pacotes de salgadinhos', key='pacotes_de_salgados')],\n",
    "            [sg.Button('Enviar dados')]\n",
    "        ]\n",
    "        # janela\n",
    "        self.janela = sg.Window('Lista de Convidados').layout(layout)\n",
    "\n",
    "    def Iniciar(self):\n",
    "        while True:\n",
    "            evento, valores = self.janela.read()\n",
    "\n",
    "            if evento == sg.WINDOW_CLOSED:\n",
    "                break\n",
    "\n",
    "            if evento == 'Enviar dados':\n",
    "                convidados = valores['-CONVIDADOS-']\n",
    "                \n",
    "\n",
    "        self.janela.close()\n",
    "\n",
    "tela = ListaAniversário()\n",
    "tela.Iniciar()\n"
   ]
  },
  {
   "cell_type": "code",
   "execution_count": 18,
   "metadata": {},
   "outputs": [
    {
     "name": "stdout",
     "output_type": "stream",
     "text": [
      "Número de convidados: 20\n",
      "Custo total: R$ 50.50\n",
      "Número de convidados: 20\n",
      "Custo total: R$ 50.50\n"
     ]
    }
   ],
   "source": [
    "import PySimpleGUI as sg\n",
    "\n",
    "class ListaAniversário:\n",
    "    def __init__(self):\n",
    "        sg.change_look_and_feel('BlueMono')\n",
    "        layout = [\n",
    "            [sg.Text('Por favor digite o número de convidados', size=(30, 0)), sg.Input(key='-CONVIDADOS-', size=(20, 1))],\n",
    "            [sg.Checkbox('Caixa de Bolo', key='caixa_de_bolo')],\n",
    "            [sg.Checkbox('Refrigerante', key='refrigerante')],\n",
    "            [sg.Checkbox('Talheres', key='talheres')],\n",
    "            [sg.Checkbox('Garrafas de Agua', key='garrafas_de_agua')],\n",
    "            [sg.Checkbox('Pacotes de salgadinhos', key='pacotes_de_salgados')],\n",
    "            [sg.Button('Enviar dados')]\n",
    "        ]\n",
    "        # janela\n",
    "        self.janela = sg.Window('Lista de Convidados').layout(layout)\n",
    "\n",
    "    def Iniciar(self):\n",
    "        while True:\n",
    "            evento, valores = self.janela.read()\n",
    "\n",
    "            if evento == sg.WINDOW_CLOSED:\n",
    "                break\n",
    "\n",
    "            if evento == 'Enviar dados':\n",
    "                convidados = valores['-CONVIDADOS-']\n",
    "                # Lógica para calcular com base nos checkboxes selecionados\n",
    "                custo_total = 0\n",
    "                if valores['caixa_de_bolo']:\n",
    "                    custo_total += 30\n",
    "                if valores['refrigerante']:\n",
    "                    custo_total += 6\n",
    "                if valores['talheres']:\n",
    "                    custo_total += 1.5\n",
    "                if valores['garrafas_de_agua']:\n",
    "                    custo_total += 1\n",
    "                if valores['pacotes_de_salgados']:\n",
    "                    custo_total += 12\n",
    "\n",
    "                print(f'Número de convidados: {convidados}')\n",
    "                print(f'Custo total: R$ {custo_total:.2f}')\n",
    "\n",
    "        self.janela.close()\n",
    "\n",
    "tela = ListaAniversário()\n",
    "tela.Iniciar()\n"
   ]
  },
  {
   "cell_type": "code",
   "execution_count": 15,
   "metadata": {},
   "outputs": [
    {
     "name": "stdout",
     "output_type": "stream",
     "text": [
      "Lista de compras de acordo com o número de convidados informados: \n",
      "Obs: O número de convidados(com desconto de 10% por não comparecimento) 18.0\n",
      "A quantidade caixas Bolo ==> R$: 2.25\n",
      "A quantidade de refrigerante ==> R$: 3.6\n",
      "A quantidade de talheres ==>  R$: 18.0\n",
      "A quantidade de garrafas de água ==>  R$: 6.0\n",
      "A quantidade de pacotes de salgadinhos ==> R$: 1.8\n",
      "A quantidade de de balões ==> R$: 180.0\n",
      "A quantidade de velas ==> R$: 3.6\n",
      "O Valor total a ser gasto nessa festa e igual a  ==> R$:  240.90\n",
      "O valor total por pessoa ==> R$:  13.38\n"
     ]
    }
   ],
   "source": [
    "convidados = int(input('Olá muito Bem vindo,por favor informar o numero de convidados:  '))\n",
    "convidados_reais = convidados - (0.1 * convidados)\n",
    "# Cálculos de quantidade\n",
    "caixas_bolo = convidados_reais / 8\n",
    "refri = convidados_reais / 5\n",
    "talheres = convidados_reais / 1\n",
    "garrafas_agua = convidados_reais / 3\n",
    "pacote_salgadinhos = convidados_reais / 10\n",
    "baloes = convidados_reais * 10\n",
    "velas = convidados_reais / 5\n",
    "vlr_caixas_bolos = caixas_bolo * 30\n",
    "vlr_refri = refri * 6\n",
    "vlr_talheres = talheres * 1.5\n",
    "vlr_garrafas = garrafas_agua * 1\n",
    "vlr_salgados = pacote_salgadinhos * 12\n",
    "vlr_baloes = baloes * 0.5\n",
    "vlr_velas = velas * 2\n",
    "# Total gasto\n",
    "valor_total = vlr_caixas_bolos + vlr_refri + vlr_talheres + vlr_garrafas + vlr_salgados + vlr_baloes + vlr_velas\n",
    "valor_por_pessoa = valor_total / convidados_reais\n",
    "# Print das quantidades e valores da festa\n",
    "print('Lista de compras de acordo com o número de convidados informados: ')\n",
    "print(f'Obs: O número de convidados(com desconto de 10% por não comparecimento) {convidados_reais}')\n",
    "print(f'A quantidade caixas Bolo ==> R$: {caixas_bolo}')\n",
    "print(f'A quantidade de refrigerante ==> R$: {refri}')\n",
    "print(f'A quantidade de talheres ==>  R$: {talheres}')\n",
    "print(f'A quantidade de garrafas de água ==>  R$: {garrafas_agua}')\n",
    "print(f'A quantidade de pacotes de salgadinhos ==> R$: {pacote_salgadinhos}')\n",
    "print(f'A quantidade de de balões ==> R$: {baloes}')\n",
    "print(f'A quantidade de velas ==> R$: {velas}')\n",
    "print(f'O Valor total a ser gasto nessa festa e igual a  ==> R$: {valor_total: .2f}')\n",
    "print(f'O valor total por pessoa ==> R$: {valor_por_pessoa: .2f}')"
   ]
  }
 ],
 "metadata": {
  "kernelspec": {
   "display_name": "Python 3",
   "language": "python",
   "name": "python3"
  },
  "language_info": {
   "codemirror_mode": {
    "name": "ipython",
    "version": 3
   },
   "file_extension": ".py",
   "mimetype": "text/x-python",
   "name": "python",
   "nbconvert_exporter": "python",
   "pygments_lexer": "ipython3",
   "version": "3.8.5"
  }
 },
 "nbformat": 4,
 "nbformat_minor": 2
}
