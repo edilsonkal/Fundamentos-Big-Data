{
 "cells": [
  {
   "cell_type": "markdown",
   "metadata": {},
   "source": [
    "###c) Repita esse procedimento para os campos Categoria, Segmento, Fabricante, Cidade e Estado. Reescreva todo o código para cada caso, com o objetivode exercitar a sintaxe dos comandos"
   ]
  },
  {
   "cell_type": "code",
   "execution_count": null,
   "metadata": {},
   "outputs": [],
   "source": [
    "for Categoria in lista_Categoria:\n",
    "    df_final = dados[dados['Categoria'] == Categoria]\n",
    "    arquivo_novo = arquivo + 'relatorios-segCat\\\\'\n",
    "    df_final.to_excel(arquivo_novo +  Categoria + '.xlsx', index = False)"
   ]
  },
  {
   "cell_type": "code",
   "execution_count": null,
   "metadata": {},
   "outputs": [],
   "source": [
    "for Segmento in lista_Segmento:\n",
    "    df_final = dados[dados['Segmento'] == Segmento]\n",
    "    arquivo_novo = arquivo + 'relatorios-segCat\\\\'\n",
    "    df_final.to_excel(arquivo_novo +  Categoria + '.xlsx', index = False)"
   ]
  },
  {
   "cell_type": "code",
   "execution_count": null,
   "metadata": {},
   "outputs": [],
   "source": [
    "for Fabricante in lista_Fabricante:\n",
    "    df_final = dados[dados['Fabricante'] == Fabricante]\n",
    "    arquivo_novo = arquivo + 'relatorios-segCat\\\\'\n",
    "    df_final.to_excel(arquivo_novo +  Fabricante + '.xlsx', index = False)"
   ]
  },
  {
   "cell_type": "code",
   "execution_count": null,
   "metadata": {},
   "outputs": [],
   "source": [
    "for Cidade in lista_Cidade:\n",
    "    df_final = dados[dados['Cidade'] == Cidade]\n",
    "    arquivo_novo = arquivo + 'relatorios-segCat\\\\'\n",
    "    df_final.to_excel(arquivo_novo +  Cidade + '.xlsx', index = False)"
   ]
  },
  {
   "cell_type": "code",
   "execution_count": null,
   "metadata": {},
   "outputs": [],
   "source": [
    "for Estado in lista_Estado:\n",
    "    df_final = dados[dados['Cidade'] == Estado]\n",
    "    arquivo_novo = arquivo + 'relatorios-segCat\\\\'\n",
    "    df_final.to_excel(arquivo_novo +  Estado + '.xlsx', index = False)"
   ]
  },
  {
   "cell_type": "code",
   "execution_count": null,
   "metadata": {},
   "outputs": [],
   "source": []
  }
 ],
 "metadata": {
  "language_info": {
   "name": "python"
  },
  "orig_nbformat": 4
 },
 "nbformat": 4,
 "nbformat_minor": 2
}
