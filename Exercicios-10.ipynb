{
 "cells": [
  {
   "cell_type": "markdown",
   "metadata": {},
   "source": [
    "## a) Crie um dataframe para cada um dos arquivos nba_2015_a.csv,\n",
    "nba_2015_b.csv, nba_2015_c.csv e bust_nba_2015.csv. Chame esses\n",
    "dataframes de df_a, df_b, df_c, bust, respectivamente."
   ]
  },
  {
   "cell_type": "code",
   "execution_count": 5,
   "metadata": {},
   "outputs": [
    {
     "ename": "TypeError",
     "evalue": "NDFrame.head() takes from 1 to 2 positional arguments but 3 were given",
     "output_type": "error",
     "traceback": [
      "\u001b[1;31m---------------------------------------------------------------------------\u001b[0m",
      "\u001b[1;31mTypeError\u001b[0m                                 Traceback (most recent call last)",
      "\u001b[1;32mUntitled-1.ipynb Cell 2\u001b[0m line \u001b[0;36m1\n\u001b[0;32m     <a href='vscode-notebook-cell:Untitled-1.ipynb?jupyter-notebook#W2sdW50aXRsZWQ%3D?line=10'>11</a>\u001b[0m file_2 \u001b[39m=\u001b[39m \u001b[39m'\u001b[39m\u001b[39mnba_2015_b.csv\u001b[39m\u001b[39m'\u001b[39m\n\u001b[0;32m     <a href='vscode-notebook-cell:Untitled-1.ipynb?jupyter-notebook#W2sdW50aXRsZWQ%3D?line=12'>13</a>\u001b[0m df \u001b[39m=\u001b[39m pd\u001b[39m.\u001b[39mread_csv(path \u001b[39m+\u001b[39m file_2)\n\u001b[1;32m---> <a href='vscode-notebook-cell:Untitled-1.ipynb?jupyter-notebook#W2sdW50aXRsZWQ%3D?line=13'>14</a>\u001b[0m df\u001b[39m.\u001b[39;49mhead(file,file_2)\n",
      "\u001b[1;31mTypeError\u001b[0m: NDFrame.head() takes from 1 to 2 positional arguments but 3 were given"
     ]
    }
   ],
   "source": [
    "import pandas as pd\n",
    " \n",
    "path = 'C:\\\\Users\\\\FIC\\\\Documents\\\\EdilsonCarl80\\\\arquivo\\\\nba\\\\'\n",
    "file = 'nba_2015_a.csv'\n",
    "\n",
    "#print(path + file)\n",
    "df = pd.read_csv( path + file)\n",
    "#df.head()\n",
    "\n",
    "\n",
    "file_2 = 'nba_2015_b.csv'\n",
    "\n",
    "df = pd.read_csv(path + file_2)\n",
    "df.head(file,file_2)"
   ]
  }
 ],
 "metadata": {
  "kernelspec": {
   "display_name": "Python 3",
   "language": "python",
   "name": "python3"
  },
  "language_info": {
   "codemirror_mode": {
    "name": "ipython",
    "version": 3
   },
   "file_extension": ".py",
   "mimetype": "text/x-python",
   "name": "python",
   "nbconvert_exporter": "python",
   "pygments_lexer": "ipython3",
   "version": "3.11.0"
  },
  "orig_nbformat": 4
 },
 "nbformat": 4,
 "nbformat_minor": 2
}
