{
 "cells": [
  {
   "cell_type": "code",
   "execution_count": 4,
   "metadata": {},
   "outputs": [],
   "source": [
    "import os\n",
    "import pandas as pd\n",
    "\n",
    "path_dir = 'C:\\\\Users\\\\FIC\\\\Documents\\\\EdilsonCarl80\\\\Desafio 01 - Super Atacadista-20230929T221412Z-001\\\\Desafio 01 - Super Atacadista\\\\arquivos\\\\'\n",
    "\n",
    "respo = []\n",
    "\n",
    "\n",
    "for path in os.listdir(path_dir):\n",
    "    # Verificar se é um arquivo válido\n",
    "    if os.path.isfile(path_dir + path):\n",
    "        respo.append(path_dir + path)\n",
    "\n",
    "\n",
    "file_combined = pd.DataFrame        "
   ]
  }
 ],
 "metadata": {
  "kernelspec": {
   "display_name": "Python 3",
   "language": "python",
   "name": "python3"
  },
  "language_info": {
   "codemirror_mode": {
    "name": "ipython",
    "version": 3
   },
   "file_extension": ".py",
   "mimetype": "text/x-python",
   "name": "python",
   "nbconvert_exporter": "python",
   "pygments_lexer": "ipython3",
   "version": "3.11.0"
  },
  "orig_nbformat": 4
 },
 "nbformat": 4,
 "nbformat_minor": 2
}
