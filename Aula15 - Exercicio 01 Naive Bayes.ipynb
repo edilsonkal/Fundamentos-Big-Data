{
 "cells": [
  {
   "cell_type": "markdown",
   "metadata": {},
   "source": [
    "### Algoritmo Naive Bayes\n",
    "Criar "
   ]
  },
  {
   "cell_type": "code",
   "execution_count": 1,
   "metadata": {},
   "outputs": [],
   "source": [
    "import pandas as pd\n",
    "from sklearn.model_selection import train_test_split\n",
    "from sklearn.naive_bayes import GaussianNB\n",
    "from sklearn.preprocessing import LabelEncoder\n",
    "from sklearn.metrics import confusion_matrix, accuracy_score\n"
   ]
  },
  {
   "cell_type": "markdown",
   "metadata": {},
   "source": [
    "### Carregamento da base dados e definição dos previsores(variáveis independetes - x ) e a classe )variável dependete - y)"
   ]
  },
  {
   "cell_type": "code",
   "execution_count": 6,
   "metadata": {},
   "outputs": [
    {
     "data": {
      "text/plain": [
       "(1000, 21)"
      ]
     },
     "execution_count": 6,
     "metadata": {},
     "output_type": "execute_result"
    }
   ],
   "source": [
    "path = 'C:\\\\Users\\\\FIC\\\\Documents\\\\EdilsonCarl80\\\\arquivos2\\\\'\n",
    "file =  'Credit.csv'\n",
    "\n",
    "credito =  pd.read_csv(path + file)\n",
    "credito.shape\n"
   ]
  },
  {
   "cell_type": "code",
   "execution_count": 8,
   "metadata": {},
   "outputs": [],
   "source": [
    "#Separação de dados\n",
    "previsores = credito.iloc[:,0:20].values \n",
    "classe = credito.iloc[:,20].values"
   ]
  },
  {
   "cell_type": "code",
   "execution_count": 16,
   "metadata": {},
   "outputs": [
    {
     "data": {
      "text/html": [
       "<div>\n",
       "<style scoped>\n",
       "    .dataframe tbody tr th:only-of-type {\n",
       "        vertical-align: middle;\n",
       "    }\n",
       "\n",
       "    .dataframe tbody tr th {\n",
       "        vertical-align: top;\n",
       "    }\n",
       "\n",
       "    .dataframe thead th {\n",
       "        text-align: right;\n",
       "    }\n",
       "</style>\n",
       "<table border=\"1\" class=\"dataframe\">\n",
       "  <thead>\n",
       "    <tr style=\"text-align: right;\">\n",
       "      <th></th>\n",
       "      <th>checking_status</th>\n",
       "      <th>duration</th>\n",
       "      <th>credit_history</th>\n",
       "      <th>purpose</th>\n",
       "      <th>credit_amount</th>\n",
       "      <th>savings_status</th>\n",
       "      <th>employment</th>\n",
       "      <th>installment_commitment</th>\n",
       "      <th>personal_status</th>\n",
       "      <th>other_parties</th>\n",
       "      <th>...</th>\n",
       "      <th>property_magnitude</th>\n",
       "      <th>age</th>\n",
       "      <th>other_payment_plans</th>\n",
       "      <th>housing</th>\n",
       "      <th>existing_credits</th>\n",
       "      <th>job</th>\n",
       "      <th>num_dependents</th>\n",
       "      <th>own_telephone</th>\n",
       "      <th>foreign_worker</th>\n",
       "      <th>class</th>\n",
       "    </tr>\n",
       "  </thead>\n",
       "  <tbody>\n",
       "    <tr>\n",
       "      <th>0</th>\n",
       "      <td>&lt;0</td>\n",
       "      <td>6</td>\n",
       "      <td>'critical/other existing credit'</td>\n",
       "      <td>radio/tv</td>\n",
       "      <td>1169</td>\n",
       "      <td>'no known savings'</td>\n",
       "      <td>&gt;=7</td>\n",
       "      <td>4</td>\n",
       "      <td>'male single'</td>\n",
       "      <td>none</td>\n",
       "      <td>...</td>\n",
       "      <td>'real estate'</td>\n",
       "      <td>67</td>\n",
       "      <td>none</td>\n",
       "      <td>own</td>\n",
       "      <td>2</td>\n",
       "      <td>skilled</td>\n",
       "      <td>1</td>\n",
       "      <td>yes</td>\n",
       "      <td>yes</td>\n",
       "      <td>good</td>\n",
       "    </tr>\n",
       "    <tr>\n",
       "      <th>1</th>\n",
       "      <td>0&lt;=X&lt;200</td>\n",
       "      <td>48</td>\n",
       "      <td>'existing paid'</td>\n",
       "      <td>radio/tv</td>\n",
       "      <td>5951</td>\n",
       "      <td>&lt;100</td>\n",
       "      <td>1&lt;=X&lt;4</td>\n",
       "      <td>2</td>\n",
       "      <td>'female div/dep/mar'</td>\n",
       "      <td>none</td>\n",
       "      <td>...</td>\n",
       "      <td>'real estate'</td>\n",
       "      <td>22</td>\n",
       "      <td>none</td>\n",
       "      <td>own</td>\n",
       "      <td>1</td>\n",
       "      <td>skilled</td>\n",
       "      <td>1</td>\n",
       "      <td>none</td>\n",
       "      <td>yes</td>\n",
       "      <td>bad</td>\n",
       "    </tr>\n",
       "    <tr>\n",
       "      <th>2</th>\n",
       "      <td>'no checking'</td>\n",
       "      <td>12</td>\n",
       "      <td>'critical/other existing credit'</td>\n",
       "      <td>education</td>\n",
       "      <td>2096</td>\n",
       "      <td>&lt;100</td>\n",
       "      <td>4&lt;=X&lt;7</td>\n",
       "      <td>2</td>\n",
       "      <td>'male single'</td>\n",
       "      <td>none</td>\n",
       "      <td>...</td>\n",
       "      <td>'real estate'</td>\n",
       "      <td>49</td>\n",
       "      <td>none</td>\n",
       "      <td>own</td>\n",
       "      <td>1</td>\n",
       "      <td>'unskilled resident'</td>\n",
       "      <td>2</td>\n",
       "      <td>none</td>\n",
       "      <td>yes</td>\n",
       "      <td>good</td>\n",
       "    </tr>\n",
       "    <tr>\n",
       "      <th>3</th>\n",
       "      <td>&lt;0</td>\n",
       "      <td>42</td>\n",
       "      <td>'existing paid'</td>\n",
       "      <td>furniture/equipment</td>\n",
       "      <td>7882</td>\n",
       "      <td>&lt;100</td>\n",
       "      <td>4&lt;=X&lt;7</td>\n",
       "      <td>2</td>\n",
       "      <td>'male single'</td>\n",
       "      <td>guarantor</td>\n",
       "      <td>...</td>\n",
       "      <td>'life insurance'</td>\n",
       "      <td>45</td>\n",
       "      <td>none</td>\n",
       "      <td>'for free'</td>\n",
       "      <td>1</td>\n",
       "      <td>skilled</td>\n",
       "      <td>2</td>\n",
       "      <td>none</td>\n",
       "      <td>yes</td>\n",
       "      <td>good</td>\n",
       "    </tr>\n",
       "    <tr>\n",
       "      <th>4</th>\n",
       "      <td>&lt;0</td>\n",
       "      <td>24</td>\n",
       "      <td>'delayed previously'</td>\n",
       "      <td>'new car'</td>\n",
       "      <td>4870</td>\n",
       "      <td>&lt;100</td>\n",
       "      <td>1&lt;=X&lt;4</td>\n",
       "      <td>3</td>\n",
       "      <td>'male single'</td>\n",
       "      <td>none</td>\n",
       "      <td>...</td>\n",
       "      <td>'no known property'</td>\n",
       "      <td>53</td>\n",
       "      <td>none</td>\n",
       "      <td>'for free'</td>\n",
       "      <td>2</td>\n",
       "      <td>skilled</td>\n",
       "      <td>2</td>\n",
       "      <td>none</td>\n",
       "      <td>yes</td>\n",
       "      <td>bad</td>\n",
       "    </tr>\n",
       "  </tbody>\n",
       "</table>\n",
       "<p>5 rows × 21 columns</p>\n",
       "</div>"
      ],
      "text/plain": [
       "  checking_status  duration                    credit_history  \\\n",
       "0              <0         6  'critical/other existing credit'   \n",
       "1        0<=X<200        48                   'existing paid'   \n",
       "2   'no checking'        12  'critical/other existing credit'   \n",
       "3              <0        42                   'existing paid'   \n",
       "4              <0        24              'delayed previously'   \n",
       "\n",
       "               purpose  credit_amount      savings_status employment  \\\n",
       "0             radio/tv           1169  'no known savings'        >=7   \n",
       "1             radio/tv           5951                <100     1<=X<4   \n",
       "2            education           2096                <100     4<=X<7   \n",
       "3  furniture/equipment           7882                <100     4<=X<7   \n",
       "4            'new car'           4870                <100     1<=X<4   \n",
       "\n",
       "   installment_commitment       personal_status other_parties  ...  \\\n",
       "0                       4         'male single'          none  ...   \n",
       "1                       2  'female div/dep/mar'          none  ...   \n",
       "2                       2         'male single'          none  ...   \n",
       "3                       2         'male single'     guarantor  ...   \n",
       "4                       3         'male single'          none  ...   \n",
       "\n",
       "    property_magnitude age  other_payment_plans     housing existing_credits  \\\n",
       "0        'real estate'  67                 none         own                2   \n",
       "1        'real estate'  22                 none         own                1   \n",
       "2        'real estate'  49                 none         own                1   \n",
       "3     'life insurance'  45                 none  'for free'                1   \n",
       "4  'no known property'  53                 none  'for free'                2   \n",
       "\n",
       "                    job num_dependents  own_telephone foreign_worker class  \n",
       "0               skilled              1            yes            yes  good  \n",
       "1               skilled              1           none            yes   bad  \n",
       "2  'unskilled resident'              2           none            yes  good  \n",
       "3               skilled              2           none            yes  good  \n",
       "4               skilled              2           none            yes   bad  \n",
       "\n",
       "[5 rows x 21 columns]"
      ]
     },
     "execution_count": 16,
     "metadata": {},
     "output_type": "execute_result"
    }
   ],
   "source": [
    "credito.head()"
   ]
  },
  {
   "cell_type": "markdown",
   "metadata": {},
   "source": [
    "### Transformar os atributos categóticos em atributos numéricos \n",
    "\n",
    "Devemos passar o indice da coluna categórico ,e criar um objeto para cada coluna(atributo)\n",
    ".Na sequencia será executado o processo .\n"
   ]
  },
  {
   "cell_type": "code",
   "execution_count": 26,
   "metadata": {},
   "outputs": [
    {
     "data": {
      "text/plain": [
       "array([6, 48, 12, 42, 24, 36, 24, 36, 12, 30, 12, 48, 12, 24, 15, 24, 24,\n",
       "       30, 24, 24, 9, 6, 10, 12, 10, 6, 6, 12, 7, 60, 18, 24, 18, 12, 12,\n",
       "       45, 48, 18, 10, 9, 30, 12, 18, 30, 48, 11, 36, 6, 11, 12, 24, 27,\n",
       "       12, 18, 36, 6, 12, 36, 18, 36, 9, 15, 36, 48, 24, 27, 12, 12, 36,\n",
       "       36, 36, 7, 8, 42, 36, 12, 42, 11, 54, 30, 24, 15, 18, 24, 10, 12,\n",
       "       18, 36, 18, 12, 12, 12, 12, 24, 12, 54, 12, 18, 36, 20, 24, 36, 6,\n",
       "       9, 12, 24, 18, 12, 24, 14, 6, 15, 18, 36, 12, 48, 42, 10, 33, 12,\n",
       "       21, 24, 12, 10, 18, 12, 12, 12, 12, 12, 48, 36, 15, 18, 60, 12, 27,\n",
       "       12, 15, 12, 6, 36, 27, 18, 21, 48, 6, 12, 36, 18, 6, 10, 36, 24,\n",
       "       24, 12, 9, 12, 24, 6, 24, 18, 15, 10, 36, 6, 18, 11, 24, 24, 15,\n",
       "       12, 24, 8, 21, 30, 12, 6, 12, 21, 36, 36, 21, 24, 18, 15, 9, 16,\n",
       "       12, 18, 24, 48, 27, 6, 45, 9, 6, 12, 24, 18, 9, 12, 27, 12, 12, 30,\n",
       "       12, 12, 24, 12, 9, 36, 27, 30, 36, 6, 18, 36, 24, 10, 12, 12, 12,\n",
       "       24, 15, 36, 48, 12, 9, 24, 36, 9, 12, 18, 4, 24, 6, 21, 12, 30, 24,\n",
       "       6, 48, 12, 12, 24, 12, 6, 24, 18, 6, 12, 30, 24, 9, 60, 24, 12, 15,\n",
       "       11, 12, 24, 18, 12, 10, 15, 36, 24, 14, 24, 18, 12, 48, 48, 30, 9,\n",
       "       18, 12, 6, 24, 15, 12, 18, 15, 24, 47, 48, 48, 12, 24, 12, 36, 24,\n",
       "       42, 48, 48, 12, 10, 18, 21, 6, 36, 24, 10, 48, 6, 30, 12, 8, 9, 48,\n",
       "       24, 24, 12, 4, 36, 12, 24, 12, 15, 30, 24, 24, 18, 18, 8, 12, 24,\n",
       "       36, 6, 24, 18, 60, 48, 24, 6, 13, 15, 24, 10, 24, 21, 18, 18, 10,\n",
       "       15, 13, 24, 6, 9, 9, 9, 18, 12, 10, 24, 12, 36, 12, 30, 18, 12, 12,\n",
       "       6, 18, 12, 18, 18, 36, 18, 36, 18, 10, 60, 60, 48, 18, 7, 36, 6,\n",
       "       20, 18, 22, 12, 30, 18, 18, 18, 15, 9, 18, 12, 36, 6, 9, 39, 12,\n",
       "       36, 12, 24, 18, 18, 24, 14, 18, 24, 24, 15, 24, 12, 24, 33, 12, 10,\n",
       "       24, 36, 12, 18, 21, 18, 15, 12, 12, 21, 12, 18, 28, 18, 9, 18, 5,\n",
       "       24, 6, 24, 9, 12, 6, 24, 42, 12, 12, 12, 20, 12, 48, 9, 36, 7, 12,\n",
       "       15, 36, 6, 12, 24, 24, 24, 11, 12, 6, 18, 36, 15, 12, 12, 18, 24,\n",
       "       24, 48, 33, 24, 24, 6, 9, 6, 18, 18, 39, 24, 12, 15, 12, 24, 30,\n",
       "       15, 12, 6, 12, 24, 10, 6, 12, 27, 6, 6, 12, 24, 36, 24, 18, 6, 24,\n",
       "       36, 9, 24, 24, 10, 15, 15, 24, 39, 12, 36, 15, 12, 24, 6, 6, 36, 6,\n",
       "       6, 24, 18, 48, 24, 18, 26, 15, 4, 36, 6, 36, 15, 12, 24, 24, 21, 6,\n",
       "       18, 48, 18, 12, 24, 30, 18, 12, 24, 24, 24, 12, 48, 12, 6, 48, 12,\n",
       "       9, 12, 18, 21, 24, 18, 24, 24, 6, 36, 24, 24, 12, 24, 48, 48, 24,\n",
       "       30, 24, 15, 9, 15, 12, 24, 36, 24, 18, 12, 9, 36, 12, 18, 9, 12,\n",
       "       18, 12, 12, 24, 21, 24, 24, 6, 24, 24, 18, 24, 7, 9, 24, 36, 10,\n",
       "       24, 24, 36, 18, 15, 12, 10, 21, 24, 18, 48, 60, 6, 30, 12, 21, 18,\n",
       "       48, 12, 18, 15, 6, 9, 42, 9, 24, 18, 15, 9, 24, 12, 24, 60, 12, 42,\n",
       "       18, 15, 15, 24, 18, 36, 30, 12, 24, 12, 48, 12, 24, 36, 24, 14, 12,\n",
       "       48, 30, 18, 12, 12, 21, 6, 6, 24, 30, 48, 12, 30, 24, 36, 60, 6,\n",
       "       21, 30, 24, 72, 24, 18, 6, 12, 15, 24, 36, 60, 10, 36, 9, 12, 15,\n",
       "       15, 24, 6, 24, 6, 12, 12, 18, 15, 12, 48, 24, 30, 27, 15, 48, 12,\n",
       "       9, 9, 18, 6, 21, 9, 60, 30, 30, 18, 24, 20, 9, 6, 12, 9, 27, 6, 15,\n",
       "       18, 48, 24, 24, 24, 8, 24, 4, 36, 24, 18, 6, 30, 24, 10, 21, 24,\n",
       "       39, 13, 15, 12, 21, 15, 6, 18, 12, 30, 12, 24, 6, 15, 24, 12, 15,\n",
       "       18, 12, 21, 24, 12, 30, 10, 12, 12, 24, 36, 21, 24, 12, 24, 36, 18,\n",
       "       36, 18, 39, 24, 12, 12, 20, 18, 22, 48, 48, 40, 21, 24, 6, 24, 24,\n",
       "       9, 18, 12, 24, 9, 24, 18, 20, 12, 12, 36, 6, 12, 42, 15, 8, 6, 36,\n",
       "       48, 48, 36, 6, 6, 36, 18, 12, 12, 36, 8, 18, 21, 18, 18, 36, 48,\n",
       "       24, 18, 45, 24, 15, 12, 12, 4, 24, 24, 36, 21, 18, 24, 18, 21, 18,\n",
       "       24, 9, 12, 20, 24, 15, 18, 36, 24, 10, 15, 15, 9, 24, 18, 24, 27,\n",
       "       10, 15, 18, 12, 36, 12, 36, 6, 24, 15, 12, 11, 18, 36, 9, 30, 24,\n",
       "       24, 30, 18, 24, 12, 24, 48, 36, 28, 27, 15, 12, 36, 18, 36, 21, 12,\n",
       "       15, 18, 16, 20, 36, 15, 24, 12, 21, 36, 15, 9, 36, 24, 30, 11, 24,\n",
       "       48, 10, 6, 24, 24, 18, 48, 9, 12, 24, 12, 18, 48, 30, 12, 24, 9, 9,\n",
       "       12, 12, 30, 9, 6, 60, 24, 12, 10, 24, 4, 15, 48, 24, 12, 18, 24,\n",
       "       18, 36, 24, 36, 12, 24, 30, 9, 28, 24, 6, 21, 15, 24, 6, 30, 27,\n",
       "       15, 42, 11, 15, 24, 24, 60, 30, 24, 6, 18, 24, 15, 30, 48, 21, 36,\n",
       "       24, 15, 42, 13, 24, 24, 12, 15, 18, 36, 12, 12, 30, 12, 45, 45],\n",
       "      dtype=object)"
      ]
     },
     "execution_count": 26,
     "metadata": {},
     "output_type": "execute_result"
    }
   ],
   "source": [
    "#A primeira coluna\n",
    "LabelEncoder1 = LabelEncoder()\n",
    "previsores[:,0] = LabelEncoder1.fit_transform(previsores[:,0])\n",
    "\n",
    "# coluna2\n",
    "Labelencoder2 = LabelEncoder()\n",
    "previsores[:,2] = Labelencoder2.fit_transform(previsores[:,2])\n",
    "previsores[:,2]\n",
    "\n",
    "# coluna3\n",
    "Labelencoder3 = LabelEncoder()\n",
    "previsores[:,3] = Labelencoder3.fit_transform(previsores[:,3])\n",
    "previsores[:,3]\n",
    "\n",
    "# coluna5\n",
    "Labelencoder5 = LabelEncoder()\n",
    "previsores[:,5] = Labelencoder5.fit_transform(previsores[:,5])\n",
    "previsores[:,5]\n",
    "\n",
    "\n",
    "# coluna6\n",
    "Labelencoder6 = LabelEncoder()\n",
    "previsores[:,6] = Labelencoder6.fit_transform(previsores[:,6])\n",
    "previsores[:,6]\n",
    "\n",
    "# coluna8\n",
    "Labelencoder8 = LabelEncoder()\n",
    "previsores[:,8] = Labelencoder8.fit_transform(previsores[:,8])\n",
    "previsores[:,8]\n",
    "\n",
    "# coluna9\n",
    "Labelencoder9 = LabelEncoder()\n",
    "previsores[:,9] = Labelencoder9.fit_transform(previsores[:,9])\n",
    "previsores[:,9]\n",
    "\n",
    "# coluna11\n",
    "labelencoder11 = LabelEncoder()\n",
    "previsores[:,11] = labelencoder11.fit_transform(previsores[:,11])\n",
    "previsores[:,11]\n",
    "\n",
    "# coluna13\n",
    "labelencoder13 = LabelEncoder()\n",
    "previsores[:,13] = labelencoder13.fit_transform(previsores[:,13])\n",
    "previsores[:,13]\n",
    "\n",
    "# coluna14\n",
    "Labelencoder14 = LabelEncoder()\n",
    "previsores[:,14] = Labelencoder14.fit_transform(previsores[:,14])\n",
    "previsores[:,14]\n",
    "\n",
    "# coluna16\n",
    "Labelencoder16 = LabelEncoder()\n",
    "previsores[:,16] = Labelencoder16.fit_transform(previsores[:,16])\n",
    "previsores[:,16]\n",
    "\n",
    "# coluna18\n",
    "Labelencoder18 = LabelEncoder()\n",
    "previsores[:,18] = Labelencoder18.fit_transform(previsores[:,18])\n",
    "previsores[:,18]\n",
    "\n",
    "# coluna19\n",
    "Labelencoder19 = LabelEncoder()\n",
    "previsores[:,19] = Labelencoder19.fit_transform(previsores[:,19])\n",
    "previsores[:,1]"
   ]
  },
  {
   "cell_type": "code",
   "execution_count": 27,
   "metadata": {},
   "outputs": [],
   "source": [
    "X_treinamento, X_teste, y_treinamento , y_teste = train_test_split(previsores,\n",
    "                                                                   classe,\n",
    "                                                                   test_size = 0.3, \n",
    "                                                                   random_state = 0) "
   ]
  },
  {
   "cell_type": "markdown",
   "metadata": {},
   "source": [
    "### Criação e treinamento do modelo\n"
   ]
  },
  {
   "cell_type": "code",
   "execution_count": 28,
   "metadata": {},
   "outputs": [
    {
     "data": {
      "text/html": [
       "<style>#sk-container-id-1 {color: black;}#sk-container-id-1 pre{padding: 0;}#sk-container-id-1 div.sk-toggleable {background-color: white;}#sk-container-id-1 label.sk-toggleable__label {cursor: pointer;display: block;width: 100%;margin-bottom: 0;padding: 0.3em;box-sizing: border-box;text-align: center;}#sk-container-id-1 label.sk-toggleable__label-arrow:before {content: \"▸\";float: left;margin-right: 0.25em;color: #696969;}#sk-container-id-1 label.sk-toggleable__label-arrow:hover:before {color: black;}#sk-container-id-1 div.sk-estimator:hover label.sk-toggleable__label-arrow:before {color: black;}#sk-container-id-1 div.sk-toggleable__content {max-height: 0;max-width: 0;overflow: hidden;text-align: left;background-color: #f0f8ff;}#sk-container-id-1 div.sk-toggleable__content pre {margin: 0.2em;color: black;border-radius: 0.25em;background-color: #f0f8ff;}#sk-container-id-1 input.sk-toggleable__control:checked~div.sk-toggleable__content {max-height: 200px;max-width: 100%;overflow: auto;}#sk-container-id-1 input.sk-toggleable__control:checked~label.sk-toggleable__label-arrow:before {content: \"▾\";}#sk-container-id-1 div.sk-estimator input.sk-toggleable__control:checked~label.sk-toggleable__label {background-color: #d4ebff;}#sk-container-id-1 div.sk-label input.sk-toggleable__control:checked~label.sk-toggleable__label {background-color: #d4ebff;}#sk-container-id-1 input.sk-hidden--visually {border: 0;clip: rect(1px 1px 1px 1px);clip: rect(1px, 1px, 1px, 1px);height: 1px;margin: -1px;overflow: hidden;padding: 0;position: absolute;width: 1px;}#sk-container-id-1 div.sk-estimator {font-family: monospace;background-color: #f0f8ff;border: 1px dotted black;border-radius: 0.25em;box-sizing: border-box;margin-bottom: 0.5em;}#sk-container-id-1 div.sk-estimator:hover {background-color: #d4ebff;}#sk-container-id-1 div.sk-parallel-item::after {content: \"\";width: 100%;border-bottom: 1px solid gray;flex-grow: 1;}#sk-container-id-1 div.sk-label:hover label.sk-toggleable__label {background-color: #d4ebff;}#sk-container-id-1 div.sk-serial::before {content: \"\";position: absolute;border-left: 1px solid gray;box-sizing: border-box;top: 0;bottom: 0;left: 50%;z-index: 0;}#sk-container-id-1 div.sk-serial {display: flex;flex-direction: column;align-items: center;background-color: white;padding-right: 0.2em;padding-left: 0.2em;position: relative;}#sk-container-id-1 div.sk-item {position: relative;z-index: 1;}#sk-container-id-1 div.sk-parallel {display: flex;align-items: stretch;justify-content: center;background-color: white;position: relative;}#sk-container-id-1 div.sk-item::before, #sk-container-id-1 div.sk-parallel-item::before {content: \"\";position: absolute;border-left: 1px solid gray;box-sizing: border-box;top: 0;bottom: 0;left: 50%;z-index: -1;}#sk-container-id-1 div.sk-parallel-item {display: flex;flex-direction: column;z-index: 1;position: relative;background-color: white;}#sk-container-id-1 div.sk-parallel-item:first-child::after {align-self: flex-end;width: 50%;}#sk-container-id-1 div.sk-parallel-item:last-child::after {align-self: flex-start;width: 50%;}#sk-container-id-1 div.sk-parallel-item:only-child::after {width: 0;}#sk-container-id-1 div.sk-dashed-wrapped {border: 1px dashed gray;margin: 0 0.4em 0.5em 0.4em;box-sizing: border-box;padding-bottom: 0.4em;background-color: white;}#sk-container-id-1 div.sk-label label {font-family: monospace;font-weight: bold;display: inline-block;line-height: 1.2em;}#sk-container-id-1 div.sk-label-container {text-align: center;}#sk-container-id-1 div.sk-container {/* jupyter's `normalize.less` sets `[hidden] { display: none; }` but bootstrap.min.css set `[hidden] { display: none !important; }` so we also need the `!important` here to be able to override the default hidden behavior on the sphinx rendered scikit-learn.org. See: https://github.com/scikit-learn/scikit-learn/issues/21755 */display: inline-block !important;position: relative;}#sk-container-id-1 div.sk-text-repr-fallback {display: none;}</style><div id=\"sk-container-id-1\" class=\"sk-top-container\"><div class=\"sk-text-repr-fallback\"><pre>GaussianNB()</pre><b>In a Jupyter environment, please rerun this cell to show the HTML representation or trust the notebook. <br />On GitHub, the HTML representation is unable to render, please try loading this page with nbviewer.org.</b></div><div class=\"sk-container\" hidden><div class=\"sk-item\"><div class=\"sk-estimator sk-toggleable\"><input class=\"sk-toggleable__control sk-hidden--visually\" id=\"sk-estimator-id-1\" type=\"checkbox\" checked><label for=\"sk-estimator-id-1\" class=\"sk-toggleable__label sk-toggleable__label-arrow\">GaussianNB</label><div class=\"sk-toggleable__content\"><pre>GaussianNB()</pre></div></div></div></div></div>"
      ],
      "text/plain": [
       "GaussianNB()"
      ]
     },
     "execution_count": 28,
     "metadata": {},
     "output_type": "execute_result"
    }
   ],
   "source": [
    "naive_bayes = GaussianNB()\n",
    "naive_bayes.fit(X_treinamento, y_treinamento) "
   ]
  },
  {
   "cell_type": "markdown",
   "metadata": {},
   "source": [
    "###Previsão utilizando os recursos"
   ]
  },
  {
   "cell_type": "code",
   "execution_count": 30,
   "metadata": {},
   "outputs": [],
   "source": [
    "previsoes = naive_bayes.predict(X_teste)\n"
   ]
  },
  {
   "cell_type": "code",
   "execution_count": 33,
   "metadata": {},
   "outputs": [
    {
     "ename": "NameError",
     "evalue": "name 'novo_credito' is not defined",
     "output_type": "error",
     "traceback": [
      "\u001b[1;31m---------------------------------------------------------------------------\u001b[0m",
      "\u001b[1;31mNameError\u001b[0m                                 Traceback (most recent call last)",
      "\u001b[1;32mc:\\Users\\FIC\\Documents\\EdilsonCarl80\\Aula15 - Exercicio 01 Naive Bayes.ipynb Cell 14\u001b[0m line \u001b[0;36m3\n\u001b[0;32m      <a href='vscode-notebook-cell:/c%3A/Users/FIC/Documents/EdilsonCarl80/Aula15%20-%20Exercicio%2001%20Naive%20Bayes.ipynb#X22sZmlsZQ%3D%3D?line=0'>1</a>\u001b[0m \u001b[39m# Usamos o mesmo objeto que foi criado antes, para manter o padrão dos dados\u001b[39;00m\n\u001b[0;32m      <a href='vscode-notebook-cell:/c%3A/Users/FIC/Documents/EdilsonCarl80/Aula15%20-%20Exercicio%2001%20Naive%20Bayes.ipynb#X22sZmlsZQ%3D%3D?line=1'>2</a>\u001b[0m \u001b[39m# Chamamos somente o método \"transform\", pois a adaptação aos dados (fit) já foi feita anteriormente\u001b[39;00m\n\u001b[1;32m----> <a href='vscode-notebook-cell:/c%3A/Users/FIC/Documents/EdilsonCarl80/Aula15%20-%20Exercicio%2001%20Naive%20Bayes.ipynb#X22sZmlsZQ%3D%3D?line=2'>3</a>\u001b[0m novo_credito \u001b[39m=\u001b[39m novo_credito\u001b[39m.\u001b[39miloc[:,\u001b[39m0\u001b[39m:\u001b[39m20\u001b[39m]\u001b[39m.\u001b[39mvalues\n\u001b[0;32m      <a href='vscode-notebook-cell:/c%3A/Users/FIC/Documents/EdilsonCarl80/Aula15%20-%20Exercicio%2001%20Naive%20Bayes.ipynb#X22sZmlsZQ%3D%3D?line=3'>4</a>\u001b[0m novo_credito[:,\u001b[39m0\u001b[39m] \u001b[39m=\u001b[39m labelencoder1\u001b[39m.\u001b[39mfit_transform(novo_credito[:,\u001b[39m0\u001b[39m])\n\u001b[0;32m      <a href='vscode-notebook-cell:/c%3A/Users/FIC/Documents/EdilsonCarl80/Aula15%20-%20Exercicio%2001%20Naive%20Bayes.ipynb#X22sZmlsZQ%3D%3D?line=4'>5</a>\u001b[0m novo_credito[:, \u001b[39m2\u001b[39m] \u001b[39m=\u001b[39m labelencoder2\u001b[39m.\u001b[39mfit_transform(novo_credito[:, \u001b[39m2\u001b[39m])\n",
      "\u001b[1;31mNameError\u001b[0m: name 'novo_credito' is not defined"
     ]
    }
   ],
   "source": [
    "# Usamos o mesmo objeto que foi criado antes, para manter o padrão dos dados\n",
    "# Chamamos somente o método \"transform\", pois a adaptação aos dados (fit) já foi feita anteriormente\n",
    "novo_credito = novoCredito.iloc[:, 0:20].values\n",
    "\n",
    "novo_credito[:,0] = labelencoder1.fit_transform(novo_credito[:,0])\n",
    "novo_credito[:, 2] = labelencoder2.fit_transform(novo_credito[:, 2])\n",
    "novo_credito[:, 3] = labelencoder3.fit_transform(novo_credito[:, 3])\n",
    "novo_credito[:, 5] = labelencoder4.fit_transform(novo_credito[:, 5])\n",
    "novo_credito[:, 6] = labelencoder5.fit_transform(novo_credito[:, 6])\n",
    "novo_credito[:, 8] = labelencoder6.fit_transform(novo_credito[:, 8])\n",
    "novo_credito[:, 9] = labelencoder7.fit_transform(novo_credito[:, 9])\n",
    "novo_credito[:, 11] = labelencoder8.fit_transform(novo_credito[:, 11])\n",
    "novo_credito[:, 13] = labelencoder9.fit_transform(novo_credito[:, 13])\n",
    "novo_credito[:, 14] = labelencoder10.fit_transform(novo_credito[:, 14])\n",
    "novo_credito[:, 16] = labelencoder11.fit_transform(novo_credito[:, 16])\n",
    "novo_credito[:, 18] = labelencoder12.fit_transform(novo_credito[:, 18])\n",
    "novo_credito[:, 19] = labelencoder13.fit_transform(novo_credito[:, 19])"
   ]
  },
  {
   "cell_type": "markdown",
   "metadata": {},
   "source": [
    "### Testar com um arquivo novo credito"
   ]
  }
 ],
 "metadata": {
  "kernelspec": {
   "display_name": "Python 3",
   "language": "python",
   "name": "python3"
  },
  "language_info": {
   "codemirror_mode": {
    "name": "ipython",
    "version": 3
   },
   "file_extension": ".py",
   "mimetype": "text/x-python",
   "name": "python",
   "nbconvert_exporter": "python",
   "pygments_lexer": "ipython3",
   "version": "3.11.0"
  }
 },
 "nbformat": 4,
 "nbformat_minor": 2
}
