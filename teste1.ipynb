{
 "cells": [
  {
   "cell_type": "code",
   "execution_count": 23,
   "metadata": {},
   "outputs": [],
   "source": [
    "nome = input('Qual o seu nome? ')\n",
    "idade = input('Quantos anos você tem: ')\n",
    "peso = input('Qual o seu Peso: ')\n",
    "\n",
    "print(nome , idade, peso)\n"
   ]
  },
  {
   "cell_type": "code",
   "execution_count": 5,
   "metadata": {},
   "outputs": [
    {
     "name": "stdout",
     "output_type": "stream",
     "text": [
      "ola eu sou  edilson, Prazer em ti conhecer \n"
     ]
    }
   ],
   "source": [
    "name = input('Qual o seu nome')\n",
    "print(f'ola eu sou  {name}, Prazer em ti conhecer ' )"
   ]
  },
  {
   "cell_type": "code",
   "execution_count": 4,
   "metadata": {},
   "outputs": [
    {
     "name": "stdout",
     "output_type": "stream",
     "text": [
      "O dia do seu aniversário é: 04 de outubro  de 1980: Está correto!\n"
     ]
    }
   ],
   "source": [
    "Dia = input('Qual o seu dia de nascimento:')\n",
    "Mes = input('Qual o mes do seu Nascimento:')\n",
    "ano = input('Qual o ano do seu nascimento:') \n",
    "print(f'O dia do seu aniversário é: {Dia} de {Mes}  de {ano}: Está correto!')\n"
   ]
  },
  {
   "cell_type": "code",
   "execution_count": 16,
   "metadata": {},
   "outputs": [
    {
     "name": "stdout",
     "output_type": "stream",
     "text": [
      "A soma do valor 6 + 3 =  9\n"
     ]
    }
   ],
   "source": [
    "num1 = int(input('Digite o Primeiro numero') )\n",
    "num2 = int(input('Digite o Segundo numero ') )\n",
    "\n",
    "soma = num1 + num2\n",
    "print(f'A soma do valor {num1} + {num2} = ', soma)"
   ]
  },
  {
   "cell_type": "code",
   "execution_count": 31,
   "metadata": {},
   "outputs": [
    {
     "name": "stdout",
     "output_type": "stream",
     "text": [
      "O valor total entre 78 + 45  =  123\n"
     ]
    }
   ],
   "source": [
    "numero1 = int(input('Digite um primeiro valor'))\n",
    "numero2 = int(input('Digite un segundo valor'))\n",
    "\n",
    "total = numero1 + numero2\n",
    "\n",
    "print(f'O valor total entre {numero1} + {numero2}  = ', total)\n",
    "\n",
    "\n"
   ]
  },
  {
   "cell_type": "markdown",
   "metadata": {},
   "source": [
    "Faça um programa que leia algo pelo teclado e mostre na tela o seu tipo primitivo de todas informações \n",
    "sobre eles."
   ]
  },
  {
   "cell_type": "code",
   "execution_count": 33,
   "metadata": {},
   "outputs": [
    {
     "name": "stdout",
     "output_type": "stream",
     "text": [
      "False True False True\n"
     ]
    }
   ],
   "source": [
    "number = input('Digite Qualquer coisa! ')\n",
    "print(number.isnumeric(),number.isalpha(),number.isupper(),number.isalnum(),)"
   ]
  }
 ],
 "metadata": {
  "kernelspec": {
   "display_name": "Python 3.9.12 ('base')",
   "language": "python",
   "name": "python3"
  },
  "language_info": {
   "codemirror_mode": {
    "name": "ipython",
    "version": 3
   },
   "file_extension": ".py",
   "mimetype": "text/x-python",
   "name": "python",
   "nbconvert_exporter": "python",
   "pygments_lexer": "ipython3",
   "version": "3.9.12"
  },
  "orig_nbformat": 4,
  "vscode": {
   "interpreter": {
    "hash": "452e10cf02de332f0e93a724db20f180b85faf7b72c4102d35314248fa8671ed"
   }
  }
 },
 "nbformat": 4,
 "nbformat_minor": 2
}
