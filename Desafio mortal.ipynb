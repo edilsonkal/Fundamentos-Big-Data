{
 "cells": [
  {
   "cell_type": "markdown",
   "id": "d6e41ce2",
   "metadata": {},
   "source": [
    "Desafio mortal:\n",
    "\n",
    "Crie um código para classificar 5 numeros .O usuario pode escolhar em classificar os valores na orden crescente ou decrescente.\n",
    "obs: utilize apenas a estrutura condicional IF.\n",
    "Publique no Git hub e faça postagem no link din marcando @senai suiço e seu professor."
   ]
  },
  {
   "cell_type": "code",
   "execution_count": null,
   "id": "24550873",
   "metadata": {},
   "outputs": [],
   "source": [
    "#criar a primeira etapa:\n",
    "num_1 = float(input('Digite o primeiro valor: '))\n",
    "num_2 = float(input('Digite o segundo valor: '))\n",
    "num_3 = float(input('Digite o terceiro valor: '))\n",
    "num_4 = float(input('Digite o Quarto valor: '))\n",
    "num_5 = float(input('Digite o Quinto valor:'))\n",
    "\n",
    "\n",
    "#criar estrutura condicional:\n",
    "if num_1 > num_2 and num_1 > num_3 and num_1 > num_4 and num_1 > num_5:\n",
    "    elif num_3 > num_4 and num_3 > num_5:\n",
    "    else:\n",
    "        num_4 > num_5:\n",
    "    print(f'1  valor: {num_1}, 2 valor: {num_2}, 3 valor: {num_3}, 4 valor: {num_4}, 5 valor:{num_5}, ')\n",
    "else:\n",
    "    print:(f'1  valor: {num_1}, 2 valor: {num_2}, 3 valor: {num_3}, 4 valor: {num_5}, 5 valor:{num_4}, ')\n",
    "        elif num_4 > num_3 and num_4 > num_5:\n",
    "else: \n",
    "    num_3 > num_5"
   ]
  },
  {
   "cell_type": "code",
   "execution_count": null,
   "id": "f0b5d17c",
   "metadata": {},
   "outputs": [],
   "source": [
    "num_1 = float(input('Digite o primeiro valor: '))\n",
    "num_2 = float(input('Digite o segundo valor: '))\n",
    "num_3 = float(input('Digite o terceiro valor: '))\n",
    "\n",
    "if num_1 > num_2 and num_1 > num_3:\n",
    "    \n",
    "    if num_2 > num_3:\n",
    "        print(f'1 valor: { num_1}, 2 valor: {num_2},3 valor {num_3},')\n",
    "    else:\n",
    "        print(f'1 valor: {num_1}, 2 valor: {num_3},3 valor: {num_2}' )\n",
    "elif num_2 > num_1 and num_2 > num_3:\n",
    "    if num_1 > num_3:\n",
    "        \n",
    "    print(f'1 valor: {num_2}, 2 valor:{num_1}, 3 valor:{num_3}')        \n",
    "else:\n",
    "    print(f'1 valor : {num_2}, 2 valor:{num_3}, 3 valor :{num_1},')\n",
    "\n",
    "elif num_3 > num_1 and num_3 > num_2:\n",
    "    if num_2 > num_1:\n",
    "    print(f'1 valor: {num_3}, 2 valor: {num_2} 3 valor :{num_1},')\n",
    "else: \n",
    "    print(f'1  valor: {num_3},2  valor: {num_1}, 3 valor: {num_2}, ')"
   ]
  }
 ],
 "metadata": {
  "kernelspec": {
   "display_name": "Python 3 (ipykernel)",
   "language": "python",
   "name": "python3"
  },
  "language_info": {
   "codemirror_mode": {
    "name": "ipython",
    "version": 3
   },
   "file_extension": ".py",
   "mimetype": "text/x-python",
   "name": "python",
   "nbconvert_exporter": "python",
   "pygments_lexer": "ipython3",
   "version": "3.10.9"
  }
 },
 "nbformat": 4,
 "nbformat_minor": 5
}
