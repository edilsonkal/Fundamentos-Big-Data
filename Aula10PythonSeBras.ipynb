{
  "nbformat": 4,
  "nbformat_minor": 0,
  "metadata": {
    "colab": {
      "provenance": []
    },
    "kernelspec": {
      "name": "python3",
      "display_name": "Python 3"
    },
    "language_info": {
      "name": "python"
    }
  },
  "cells": [
    {
      "cell_type": "code",
      "execution_count": null,
      "metadata": {
        "id": "HY3_4zQw3zcp",
        "colab": {
          "base_uri": "https://localhost:8080/"
        },
        "outputId": "807aef70-6dc2-40dd-bf26-951855d91f4f"
      },
      "outputs": [
        {
          "output_type": "stream",
          "name": "stdout",
          "text": [
            "Digite sua idade para calcular o desconto: 43\n",
            "Seu desconto é de 114.0\n"
          ]
        }
      ],
      "source": [
        "idade = int(input('Digite sua idade para calcular o desconto: '))\n",
        "modelo_oculos = 200\n",
        "desconto = 0.1\n",
        "if idade < 10:\n",
        "  desconto = desconto\n",
        "elif idade >= 80:\n",
        "  desconto = 0.8\n",
        "else:\n",
        "  desconto = idade/100\n",
        "valor_total = modelo_oculos - (modelo_oculos * desconto)\n",
        "print(f'Seu desconto é de {valor_total}')"
      ]
    },
    {
      "cell_type": "code",
      "source": [
        "n = int(input('Qual valor você quer sacar? R$ '))\n",
        "u = n // 1 % 10\n",
        "d = n // 10 % 10\n",
        "c = n // 100 % 10\n",
        "m = n // 1000 % 10\n",
        "\n",
        "if d % 2 == 0: vinte = d / 2\n",
        "else: vinte = (d - 1) / 2\n",
        "um = u\n",
        "dez = d % 2\n",
        "cinquenta = m * 20 + c * 2\n",
        " if cinquenta > 0 else\n",
        "   if vinte > 0 else ''\n",
        "   if dez > 0 else\n",
        "    if um > 0 else\n",
        "print('Total de: ')\n",
        "print(f'{cinquenta} cédulas de R$50')\n",
        "print(f'{vinte:.0f} cédulas de R$20')\n",
        "print(f'{dez} cédulas de R$10')\n",
        "print(f'{um} cédulas de R$1')"
      ],
      "metadata": {
        "id": "joGHjn-4zIdA"
      },
      "execution_count": null,
      "outputs": []
    },
    {
      "cell_type": "markdown",
      "source": [
        "5)\tUma empresa pretende fazer um reajuste salarial para os funcionários e precisa da sua ajuda para criar um programa. Ficou definido os seguintes reajustes:\n",
        "•\tSalário Abaixo de R$1.500,00  Aumento de 25%\n",
        "•\tSalário Entre de R$1.500,00 e R$1.999,99  Aumento de 20%\n",
        "•\tSalário Entre de R$2.000,00 e R$2.999,99  Aumento de 15%\n",
        "•\tSalário Entre de R$3.000,00 e R$4.999,99  Aumento de 10%\n",
        "•\tSalário Igual ou Acima de R$5.000,00  Aumento de 5%\n",
        "\n",
        "Faça um programa que pergunte ao usuário qual seu Salário Atual e mostre ao usuário:\n",
        "1.\tO salário atual;\n",
        "2.\tA porcentagem do reajuste;\n",
        "3.\tO aumento em R$;\n",
        "4.\tO salário final após o reajuste.\n"
      ],
      "metadata": {
        "id": "WDitI7Jy077H"
      }
    },
    {
      "cell_type": "code",
      "source": [
        "salario = float(input('Olá ,digite seu salario para calculo de aumento:     '))\n",
        "\n",
        "if salario < 1500.00:\n",
        "  aumento = 0.25\n",
        "elif salario >= 1500.00 and salario <=  1999.00:\n",
        "  aumento = 0.20\n",
        "elif salario >= 2000.00 and salario <= 2999.00:\n",
        "  aumento = 0.15\n",
        "elif salario >= 3000.00 and salario <= 4999.00:\n",
        "  aumento = 0.10\n",
        "else:\n",
        "  aumento = 0.05\n",
        "aumento_real = salario * aumento\n",
        "salario_final = salario + aumento_real\n",
        "print(f'o salario atual é de {salario}')\n",
        "print(f'A porcentagem de reajuste é de {aumento*100}')\n",
        "print(f'O aumento calculado é de: {aumento_real}')\n",
        "print(f'O salario final é de : {salario_final}')\n"
      ],
      "metadata": {
        "colab": {
          "base_uri": "https://localhost:8080/"
        },
        "id": "CoB9SqMF0-I3",
        "outputId": "50546f82-f7c5-4fa4-f97b-13c695a138e5"
      },
      "execution_count": null,
      "outputs": [
        {
          "output_type": "stream",
          "name": "stdout",
          "text": [
            "Olá ,digite seu salario para calculo de aumento:     1800\n",
            "o salario atual é de 1800.0\n",
            "A porcentagem de reajuste é de 20.0\n",
            "O aumento calculado é de: 360.0\n",
            "O salario final é de : 2160.0\n"
          ]
        }
      ]
    },
    {
      "cell_type": "markdown",
      "source": [
        "\n",
        "6)\tLeia o texto abaixo sobre o Ano Bissexto:\n",
        "“O calendário gregoriano, estabelecido pela primeira vez em 1582 pelo Papa Gregório XIII, foi projetado para corrigir os erros introduzidos pelo calendário juliano, que é menos preciso.\n",
        "No calendário gregoriano, um ano normal consiste em 365 dias. Como o comprimento real de um ano sideral (o tempo necessário para a Terra girar uma vez sobre o Sol) é na verdade de 365,2425 dias, um \"ano bissexto\" de 366 dias é usado uma vez a cada quatro anos para eliminar o erro causado por três anos normais (mas curtos). Qualquer ano que seja uniformemente divisível por 4 é um ano bissexto: por exemplo, 1988, 1992 e 1996 são anos bissextos.\n",
        "No calendário gregoriano, um ano normal consiste em 365 dias. Como o comprimento real de um ano sideral (o tempo necessário para a Terra girar uma vez sobre o Sol) é na verdade de 365,2425 dias, um \"ano bissexto\" de 366 dias é usado uma vez a cada quatro anos para eliminar o erro causado por três anos normais (mas curtos). Qualquer ano que seja uniformemente divisível por 4 é um ano bissexto: por exemplo, 1988, 1992 e 1996 são anos bissextos.\n",
        "Por essa razão, os seguintes anos não são bissextos:\n",
        "\n",
        "1700, 1800, 1900, 2100, 2200, 2300, 2500, 2600:\n",
        "\n",
        "Isso porque eles são uniformemente divisíveis por 100, mas não por 400.\n",
        "\n",
        "Os seguintes anos são bissextos: 1600, 2000, 2400\n",
        "\n",
        "Isso porque eles são uniformemente divisíveis por 100 e 400.”\n",
        "\n",
        "Faça um programa no qual o usuário informe um ano e o sistema responda se o ano é bissexto ou não.\n"
      ],
      "metadata": {
        "id": "SmPOzLu5HjCV"
      }
    },
    {
      "cell_type": "code",
      "source": [
        "o"
      ],
      "metadata": {
        "id": "mLfbe-TWOXFM"
      },
      "execution_count": null,
      "outputs": []
    },
    {
      "cell_type": "code",
      "source": [
        "ano = int(input('Olá informe o ano por favor: '))\n",
        "\n",
        "\n",
        "if (ano %400 == 0) or ( ano % 4 == 0 and ano % 100 != 0):\n",
        "    print('É um ano Bisexto')\n",
        "else:\n",
        "    print('´Não é bisexto')\n"
      ],
      "metadata": {
        "colab": {
          "base_uri": "https://localhost:8080/"
        },
        "id": "3RCpy10CH9mm",
        "outputId": "db5875b6-acf5-4bf3-827f-88fe1fc4d9df"
      },
      "execution_count": 22,
      "outputs": [
        {
          "output_type": "stream",
          "name": "stdout",
          "text": [
            "Olá informe o ano por favor: 100\n",
            "´Não é bisexto\n"
          ]
        }
      ]
    },
    {
      "cell_type": "code",
      "source": [
        "ano = int(input('Olá informe o ano por favor: '))\n",
        "if ano % 4 == 0:\n",
        "  if ano % 100 != 0:\n",
        "    print('E bisexto')\n",
        "elif  ano % 100 == 0:\n",
        "  if ano %400 == 0:\n",
        "    print('É bisexto')\n",
        "  else:\n",
        "    print('Nã é ')\n",
        "else:\n",
        "    print('Não é')"
      ],
      "metadata": {
        "colab": {
          "base_uri": "https://localhost:8080/"
        },
        "id": "0Mev8yjiTX4A",
        "outputId": "b161456b-a751-46e2-c259-3983d36f65eb"
      },
      "execution_count": 25,
      "outputs": [
        {
          "name": "stdout",
          "output_type": "stream",
          "text": [
            "Olá informe o ano por favor: 100\n"
          ]
        }
      ]
    },
    {
      "cell_type": "code",
      "source": [
        "num = input('Digite um valor: ')\n",
        "num = int(num)\n",
        "if num % 3 == 5:\n",
        "  print('Esse é o numero: ')"
      ],
      "metadata": {
        "colab": {
          "base_uri": "https://localhost:8080/"
        },
        "id": "_31r1H3yKMN5",
        "outputId": "bc8a132c-fcaf-45ad-ccae-82f2ad6db47b"
      },
      "execution_count": 16,
      "outputs": [
        {
          "name": "stdout",
          "output_type": "stream",
          "text": [
            "Digite um valor: 6\n"
          ]
        }
      ]
    }
  ]
}