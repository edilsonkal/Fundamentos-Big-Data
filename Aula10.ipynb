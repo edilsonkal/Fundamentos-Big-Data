{
  "nbformat": 4,
  "nbformat_minor": 0,
  "metadata": {
    "colab": {
      "provenance": []
    },
    "kernelspec": {
      "name": "python3",
      "display_name": "Python 3"
    },
    "language_info": {
      "name": "python"
    }
  },
  "cells": [
    {
      "cell_type": "code",
      "execution_count": 5,
      "metadata": {
        "id": "HY3_4zQw3zcp",
        "colab": {
          "base_uri": "https://localhost:8080/"
        },
        "outputId": "cce32ace-ff57-466c-9afd-2d04534856f4"
      },
      "outputs": [
        {
          "output_type": "stream",
          "name": "stdout",
          "text": [
            "Digite sua idade para calcular o desconto43\n",
            "Seu desconto é de 114.0\n"
          ]
        }
      ],
      "source": [
        "idade = int(input('Digite sua idade para calcular o desconto'))\n",
        "modelo_oculos = 200\n",
        "desconto = 0.1\n",
        "if idade < 10:\n",
        "  desconto = desconto\n",
        "elif idade >= 80:\n",
        "  desconto = 0.8\n",
        "else:\n",
        "  desconto = idade/100\n",
        "valor_total = modelo_oculos - (modelo_oculos * desconto)\n",
        "print(f'Seu desconto é de {valor_total}')"
      ]
    },
    {
      "cell_type": "code",
      "source": [
        "n = int(input('Qual valor você quer sacar? R$ '))\n",
        "u = n // 1 % 10\n",
        "d = n // 10 % 10\n",
        "c = n // 100 % 10\n",
        "m = n // 1000 % 10\n",
        "\n",
        "if d % 2 == 0: vinte = d / 2\n",
        "else: vinte = (d - 1) / 2\n",
        "um = u\n",
        "dez = d % 2\n",
        "cinquenta = m * 20 + c * 2\n",
        " if cinquenta > 0 else\n",
        "   if vinte > 0 else ''\n",
        "   if dez > 0 else\n",
        "    if um > 0 else\n",
        "print('Total de: ')\n",
        "print(f'{cinquenta} cédulas de R$50')\n",
        "print(f'{vinte:.0f} cédulas de R$20')\n",
        "print(f'{dez} cédulas de R$10')\n",
        "print(f'{um} cédulas de R$1')"
      ],
      "metadata": {
        "id": "joGHjn-4zIdA"
      },
      "execution_count": null,
      "outputs": []
    },
    {
      "cell_type": "markdown",
      "source": [
        "5)\tUma empresa pretende fazer um reajuste salarial para os funcionários e precisa da sua ajuda para criar um programa. Ficou definido os seguintes reajustes:\n",
        "•\tSalário Abaixo de R$1.500,00  Aumento de 25%\n",
        "•\tSalário Entre de R$1.500,00 e R$1.999,99  Aumento de 20%\n",
        "•\tSalário Entre de R$2.000,00 e R$2.999,99  Aumento de 15%\n",
        "•\tSalário Entre de R$3.000,00 e R$4.999,99  Aumento de 10%\n",
        "•\tSalário Igual ou Acima de R$5.000,00  Aumento de 5%\n",
        "\n",
        "Faça um programa que pergunte ao usuário qual seu Salário Atual e mostre ao usuário:\n",
        "1.\tO salário atual;\n",
        "2.\tA porcentagem do reajuste;\n",
        "3.\tO aumento em R$;\n",
        "4.\tO salário final após o reajuste.\n"
      ],
      "metadata": {
        "id": "WDitI7Jy077H"
      }
    },
    {
      "cell_type": "code",
      "source": [
        "salario = float(input('Olá ,digite seu salario para calculo de aumento:     '))\n",
        "\n",
        "if salario < 1500.00:\n",
        "  aumento = 0.25\n",
        "elif salario >= 1500.00 and salario <=  1999.00:\n",
        "  aumento = 0.20\n",
        "elif salario >= 2000.00 and salario <= 2999.00:\n",
        "  aumento = 0.15\n",
        "elif salario >= 3000.00 and salario <= 4999.00:\n",
        "  aumento = 0.10\n",
        "else:\n",
        "  aumento = 0.05\n",
        "aumento_real = salario * aumento\n",
        "salario_final = salario + aumento_real\n",
        "print(f'o salario atual é de {salario}')\n",
        "print(f'A porcentagem de reajuste é de {aumento*100}')\n",
        "print(f'O aumento calculado é de: {aumento_real}')\n",
        "print(f'O salario final é de : {salario_final}')\n"
      ],
      "metadata": {
        "colab": {
          "base_uri": "https://localhost:8080/"
        },
        "id": "CoB9SqMF0-I3",
        "outputId": "377f1fe2-e112-4268-c6e8-92d579e711ca"
      },
      "execution_count": 10,
      "outputs": [
        {
          "output_type": "stream",
          "name": "stdout",
          "text": [
            "Olá ,digite seu salario para calculo de aumento:     1800\n",
            "o salario atual é de 1800.0\n",
            "A porcentagem de reajuste é de 20.0\n",
            "O aumento calculado é de: 360.0\n",
            "O salario final é de : 2160.0\n"
          ]
        }
      ]
    }
  ]
}