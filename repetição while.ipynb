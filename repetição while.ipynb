{
 "cells": [
  {
   "cell_type": "markdown",
   "metadata": {},
   "source": [
    "Exercício 03\n",
    "\n",
    "Faça um programa que calcule a soma dos números de 1 a 100.\n",
    "(FOR)"
   ]
  },
  {
   "cell_type": "code",
   "execution_count": 1,
   "metadata": {},
   "outputs": [
    {
     "name": "stdout",
     "output_type": "stream",
     "text": [
      "A soma é:  5050\n"
     ]
    }
   ],
   "source": [
    "#Criando uma lista de 0 a 100\n",
    "\n",
    "numeros =  range(1, 101)\n",
    "#criar uma variavel acumuladores\n",
    "soma = 0\n",
    "\n",
    "for num in numeros:\n",
    "    soma =  soma + num \n",
    "print('A soma é: ', soma)"
   ]
  },
  {
   "cell_type": "markdown",
   "metadata": {},
   "source": [
    "### Exercício 04 \n",
    "\n",
    " Crie um programa que solicite ao usuário que digite uma senha e\n",
    "continue pedindo até que a senha digitada seja igual a \"12345\". Quando a senha\n",
    "for correta, exiba uma mensagem de boas-vindas. (WHILE)"
   ]
  },
  {
   "cell_type": "code",
   "execution_count": 2,
   "metadata": {},
   "outputs": [
    {
     "name": "stdout",
     "output_type": "stream",
     "text": [
      "Seja bem vindo!\n"
     ]
    }
   ],
   "source": [
    "senha =  input('Digite uma senha')\n",
    "\n",
    "while senha != '12345':\n",
    "    senha =  input('Digite uma senha')\n",
    "\n",
    "print('Seja bem vindo!')"
   ]
  }
 ],
 "metadata": {
  "kernelspec": {
   "display_name": "Python 3",
   "language": "python",
   "name": "python3"
  },
  "language_info": {
   "codemirror_mode": {
    "name": "ipython",
    "version": 3
   },
   "file_extension": ".py",
   "mimetype": "text/x-python",
   "name": "python",
   "nbconvert_exporter": "python",
   "pygments_lexer": "ipython3",
   "version": "3.11.0"
  },
  "orig_nbformat": 4
 },
 "nbformat": 4,
 "nbformat_minor": 2
}
