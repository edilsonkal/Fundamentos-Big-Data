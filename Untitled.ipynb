{
 "cells": [
  {
   "cell_type": "markdown",
   "id": "9c5ebd83",
   "metadata": {},
   "source": [
    "###Estrutura de Decisão"
   ]
  },
  {
   "cell_type": "markdown",
   "id": "e02af85b",
   "metadata": {},
   "source": [
    "###Exercício 01 \n",
    "\n",
    "  Crie uma variável chamada \"idade\" e atribua um valor inteiro a ela.\n",
    "Verifique se a idade é maior ou igual a 18 e imprima \"Maior de idade\" ou \"Menor de\n",
    "idade\" de acordo com a condição."
   ]
  },
  {
   "cell_type": "code",
   "execution_count": null,
   "id": "69623529",
   "metadata": {},
   "outputs": [],
   "source": [
    "idade = 10\n",
    "if idade >= 18:\n",
    "    print('Maior de Idade')\n",
    "else:\n",
    "    print('Menor de Idade')"
   ]
  },
  {
   "cell_type": "markdown",
   "id": "a653ddf5",
   "metadata": {},
   "source": [
    "###Exercício 02 \n",
    "\n",
    "Crie uma variável chamada \"número\" e atribua um valor inteiro a ela.\n",
    "Verifique se o número é positivo, negativo ou zero e imprima a mensagem\n",
    "correspondente."
   ]
  },
  {
   "cell_type": "code",
   "execution_count": null,
   "id": "88167435",
   "metadata": {},
   "outputs": [],
   "source": [
    "numero = 10\n",
    "# se o numero for maior que 0\n",
    "if numero > 0:\n",
    "    print('O numero é Positivo')\n",
    "else:\n",
    "    print('O numero é Negativo')"
   ]
  },
  {
   "cell_type": "code",
   "execution_count": null,
   "id": "46387164",
   "metadata": {},
   "outputs": [],
   "source": [
    "#verificar se o numero é positivo ,negativo ou nulo\n",
    "num = 0\n",
    "if num > 0:\n",
    "    print('Positivo')\n",
    "elif num < 0:\n",
    "    print('Negativo')\n",
    "else:\n",
    "    print('Nulo')"
   ]
  },
  {
   "cell_type": "markdown",
   "id": "0177d312",
   "metadata": {},
   "source": [
    "###Exercício 03 \n",
    "\n",
    "Crie duas variáveis, \"nota1\" e \"nota2\", e atribua valores numéricos a elas.\n",
    "Verifique se a média das notas é maior ou igual a 7 e imprima \"Aprovado\" ou\n",
    "\"Reprovado\" de acordo com a condição."
   ]
  },
  {
   "cell_type": "code",
   "execution_count": null,
   "id": "a4a95c45",
   "metadata": {},
   "outputs": [],
   "source": [
    "nota_1 = input('Digite a nota 01: ')\n",
    "nota_2 = input('Digite a nota 02: ')\n",
    "#converter os dados para float(numeros decimais )\n",
    "nota_1 = float(nota_1)\n",
    "nota_2 = float(nota_2)\n",
    "media  = (nota_1 + nota_2)/2 \n",
    "\n",
    "if media >=7:\n",
    "    print('Aprovado')\n",
    "else:\n",
    "    print('Reprovado')\n"
   ]
  },
  {
   "cell_type": "markdown",
   "id": "a39561a7",
   "metadata": {},
   "source": [
    "##Exercício 04\n",
    "\n",
    "Crie uma variável chamada \"idade\" e atribua um valor inteiro a ela.\n",
    "Verifique se a idade está dentro do intervalo de 18 a 30 (inclusive) e imprima a\n",
    "mensagem \"Idade válida\" ou \"Idade inválida\" de acordo com a condição."
   ]
  },
  {
   "cell_type": "code",
   "execution_count": null,
   "id": "0e940e3b",
   "metadata": {},
   "outputs": [],
   "source": [
    "idade = input('Digite sua idade:')\n",
    "#converte em int\n",
    "idade = int(idade)\n",
    "\n",
    "if idade >=18 and idade <=30:\n",
    "    print('Idade válida')\n",
    "\n",
    "else:\n",
    "    print('Idade inválida')\n",
    "\n"
   ]
  },
  {
   "cell_type": "markdown",
   "id": "993f8641",
   "metadata": {},
   "source": [
    "###Exercício 05\n",
    "\n",
    "Crie uma variável chamada \"numero\" e atribua um valor inteiro a ela.\n",
    "Verifique se o número é par ou ímpar e imprima a mensagem correspondente."
   ]
  },
  {
   "cell_type": "code",
   "execution_count": null,
   "id": "095c88f9",
   "metadata": {},
   "outputs": [],
   "source": [
    "numero = input('Digite o numero: ')\n",
    "numero = int(numero)\n",
    "if numero % 2 == 0:\n",
    "    print('Par')\n",
    "else:\n",
    "    print('Ímpar')\n",
    "    \n",
    "\n"
   ]
  },
  {
   "cell_type": "markdown",
   "id": "2e5f40cd",
   "metadata": {},
   "source": [
    "###\n",
    "Exercício 06 \n",
    "\n",
    "Crie uma variável chamada \"horario\" e atribua um valor inteiro\n",
    "representando a hora do dia (em formato 24 horas). Verifique se o horário está dentro\n",
    "do período da manhã (das 6h às 12h), da tarde (das 12h às 18h) ou da noite (das 18h\n",
    "às 23h) e imprima a mensagem correspondente."
   ]
  },
  {
   "cell_type": "code",
   "execution_count": null,
   "id": "f5589e50",
   "metadata": {},
   "outputs": [],
   "source": [
    "horario = input('Digite um horario: ')\n",
    "horario = int(horario)\n",
    "if horario >=6 and horario < 12:\n",
    "    print('Bom dia ')\n",
    "elif horario >= 12 and horario <18:\n",
    "    print('Boa tarde!!!')\n",
    "elif horario >=18 and horario <=23:\n",
    "    print('Boa noite!')\n",
    "elif horario > 0 and horario < 6:\n",
    "    print('Chegou Cedooo!!!')"
   ]
  },
  {
   "cell_type": "markdown",
   "id": "c5764c3c",
   "metadata": {},
   "source": [
    "####Exercício 07\n",
    " \n",
    "Crie uma variável chamada \"peso\" e atribua um valor numérico a ela.\n",
    "Verifique se o peso está dentro do intervalo de 50 a 100 (inclusive) e imprima a\n",
    "mensagem \"Peso válido\" ou \"Peso inválido\" de acordo com a condição."
   ]
  },
  {
   "cell_type": "code",
   "execution_count": null,
   "id": "15ba1516",
   "metadata": {},
   "outputs": [],
   "source": [
    "Peso = input('Digite seu Peso: ')\n",
    "Peso = int(Peso)\n",
    "\n",
    "if Peso >=50 and Peso <=100:\n",
    "    print('Peso valido')\n",
    "else:\n",
    "    print('Peso Inválido')"
   ]
  },
  {
   "cell_type": "markdown",
   "id": "8db0e7b9",
   "metadata": {},
   "source": [
    "Exercício 08 \n",
    "\n",
    "Crie uma variável chamada \"numero\" e atribua um valor inteiro a ela.\n",
    "Verifique se o número é múltiplo de 3 e de 5 ao mesmo tempo e imprima a mensagem\n",
    "correspondente."
   ]
  },
  {
   "cell_type": "code",
   "execution_count": null,
   "id": "580e3e46",
   "metadata": {},
   "outputs": [],
   "source": [
    "num = input('Digite um valor: ')\n",
    "num = int(num)\n",
    "if numero % 3 == 5:\n",
    "    \n"
   ]
  },
  {
   "cell_type": "markdown",
   "id": "30166f77",
   "metadata": {},
   "source": [
    "Exercício 09 \n",
    "\n",
    "Crie uma variável chamada \"ano\" e atribua um valor inteiro\n",
    "representando um ano. Verifique se o ano é bissexto (divisível por 4, mas não por 100,\n",
    "exceto se for divisível por 400) e imprima a mensagem correspondente.\n"
   ]
  },
  {
   "cell_type": "markdown",
   "id": "90ebfca5",
   "metadata": {},
   "source": [
    "Exercício 10 \n",
    "\n",
    "Crie uma variável chamada \"salario\" e atribua um valor numérico a ela.\n",
    "Verifique se o salário é maior do que 1000 e menor do que 2000 ao mesmo tempo e\n",
    "imprima a mensagem correspondente."
   ]
  },
  {
   "cell_type": "code",
   "execution_count": null,
   "id": "5df14c6c",
   "metadata": {},
   "outputs": [],
   "source": []
  },
  {
   "cell_type": "markdown",
   "id": "ffad461b",
   "metadata": {},
   "source": [
    "Exercício 11 \n",
    "\n",
    "Faça um Programa que peça dois números e imprima o maior deles."
   ]
  },
  {
   "cell_type": "code",
   "execution_count": 1,
   "id": "0ebd56ab",
   "metadata": {},
   "outputs": [
    {
     "name": "stdout",
     "output_type": "stream",
     "text": [
      "Digite o primeiro numero: 45\n",
      "Digite o segundo numero: 12\n",
      "O maior valor é 45 e o menor é 12.\n"
     ]
    }
   ],
   "source": [
    "num1 = input('Digite o primeiro numero: ')\n",
    "num2 = input('Digite o segundo numero: ')\n",
    "\n",
    "num1 = int(num1)\n",
    "num2 = int(num2)\n",
    "\n",
    "if num1 > num2:\n",
    "    print(f'O maior valor é {num1} e o menor é {num2}.')\n",
    "else:\n",
    "    print(f'O maior valor é {num2} e o menor é {num1}.')"
   ]
  },
  {
   "cell_type": "markdown",
   "id": "ce6bbc8f",
   "metadata": {},
   "source": [
    "###Exercício 16 \n",
    "\n",
    "Faça um Programa que leia três números e mostre o maior deles."
   ]
  },
  {
   "cell_type": "code",
   "execution_count": 2,
   "id": "eb960829",
   "metadata": {},
   "outputs": [
    {
     "ename": "SyntaxError",
     "evalue": "invalid syntax (3374950127.py, line 11)",
     "output_type": "error",
     "traceback": [
      "\u001b[1;36m  Cell \u001b[1;32mIn[2], line 11\u001b[1;36m\u001b[0m\n\u001b[1;33m    elif> num2:\u001b[0m\n\u001b[1;37m        ^\u001b[0m\n\u001b[1;31mSyntaxError\u001b[0m\u001b[1;31m:\u001b[0m invalid syntax\n"
     ]
    }
   ],
   "source": [
    "num1 = input('Digite o primeiro numero: ')\n",
    "num2 = input('Digite o segundo numero: ')\n",
    "num3 = input('Digite o terceiro numero: ')\n",
    "\n",
    "num1 = int(num1)\n",
    "num2 = int(num2)\n",
    "num3 = int(num3)\n",
    "\n",
    "if num1 > num2  >= num3:\n",
    "    print(f'O maior valor é {num1} e o menor é {num2}.')\n",
    "elif num2:\n",
    "    print(f'O maior valor é {num2} e o menor é {num1}.')\n",
    "else:\n",
    "    print(f'O maior valor é {num3} e o menor é {num1}.')"
   ]
  },
  {
   "cell_type": "code",
   "execution_count": null,
   "id": "873df1d0",
   "metadata": {},
   "outputs": [],
   "source": []
  }
 ],
 "metadata": {
  "kernelspec": {
   "display_name": "Python 3 (ipykernel)",
   "language": "python",
   "name": "python3"
  },
  "language_info": {
   "codemirror_mode": {
    "name": "ipython",
    "version": 3
   },
   "file_extension": ".py",
   "mimetype": "text/x-python",
   "name": "python",
   "nbconvert_exporter": "python",
   "pygments_lexer": "ipython3",
   "version": "3.10.9"
  }
 },
 "nbformat": 4,
 "nbformat_minor": 5
}
